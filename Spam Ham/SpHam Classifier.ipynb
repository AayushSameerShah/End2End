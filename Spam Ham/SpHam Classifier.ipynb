{
 "cells": [
  {
   "cell_type": "markdown",
   "metadata": {},
   "source": [
    "# Previously...\n",
    "We have done our EDA on the SPAM / HAM mail dataset. There we cleared the data and worked on it to explore what it tells us and what can we do about it.\n",
    "\n",
    "Now, here in this *notebook* we will expand our project further and will create an ML model which can classify a mail is spam or ham based on the learnt charecteristics. As usual, we will set the ***goals*** for this book.\n",
    "<br>—<br>\n",
    "### **Goals**:\n",
    "- Make data in a ML usable format\n",
    "    - Onehot Encode\n",
    "    - Scale Numbers if needed\n",
    "    - Use TF/IDF on the bag of words\n",
    "- Try different models\n",
    "    - KNN\n",
    "    - Logistic Regression\n",
    "    - SGD Classifier\n",
    "    - SVM\n",
    "- Make pipeline for the transformations (possibly manual transformer)\n",
    "- Pick the 2 potential best models and hypertune them\n",
    "- Make a learning curve\n",
    "- Make ROC curve\n",
    "- Interpret ROC curve\n",
    "- Interpret confusion metrics\n",
    "\n",
    "**I think this will be enough** to get us goting.<br>\n",
    "Let's get started ∞"
   ]
  },
  {
   "cell_type": "code",
   "execution_count": 231,
   "metadata": {},
   "outputs": [],
   "source": [
    "# Usual imports \n",
    "import pandas as pd, numpy as np\n",
    "import matplotlib.pyplot as plt, seaborn as sns\n",
    "\n",
    "# Model imports\n",
    "from sklearn.linear_model import LogisticRegression, SGDClassifier\n",
    "from sklearn.neighbors import KNeighborsClassifier\n",
    "from sklearn.svm import SVC\n",
    "\n",
    "# Pipeline imports\n",
    "from sklearn.pipeline import Pipeline\n",
    "from sklearn.base import BaseEstimator, TransformerMixin\n",
    "from sklearn.compose import ColumnTransformer\n",
    "\n",
    "# Evaluation imports\n",
    "from sklearn.model_selection import train_test_split, learning_curve\n",
    "from sklearn.metrics import accuracy_score, classification_report, confusion_matrix, roc_curve, precision_recall_curve\n",
    "\n",
    "# Preprocessing imports\n",
    "from sklearn.preprocessing import OneHotEncoder, StandardScaler\n",
    "from sklearn.feature_extraction.text import TfidfVectorizer\n",
    "from sklearn.impute import SimpleImputer\n",
    "\n",
    "# Hypertuning imports\n",
    "from sklearn.model_selection import GridSearchCV\n",
    "\n",
    "# Textual imports\n",
    "import re\n",
    "import string\n",
    "from nltk.corpus import stopwords\n",
    "from nltk.stem import WordNetLemmatizer"
   ]
  },
  {
   "cell_type": "markdown",
   "metadata": {},
   "source": [
    "## `•` Preprocessing"
   ]
  },
  {
   "cell_type": "code",
   "execution_count": 4,
   "metadata": {},
   "outputs": [],
   "source": [
    "df = pd.read_csv(\"BEST.csv\", parse_dates=[\"datetime\"])"
   ]
  },
  {
   "cell_type": "markdown",
   "metadata": {},
   "source": [
    "###### "
   ]
  },
  {
   "cell_type": "markdown",
   "metadata": {},
   "source": [
    "**Domain Extraction** *(Recall from EDA - the domain name from email was quite a good feature)*"
   ]
  },
  {
   "cell_type": "code",
   "execution_count": 8,
   "metadata": {},
   "outputs": [],
   "source": [
    "df.server_mail = df.server_mail.str.partition(\"@\")[2]"
   ]
  },
  {
   "cell_type": "code",
   "execution_count": 12,
   "metadata": {},
   "outputs": [],
   "source": [
    "df.from_mail = df.from_mail.str.partition(\"@\")[2]"
   ]
  },
  {
   "cell_type": "markdown",
   "metadata": {},
   "source": [
    "**Datetime Drop** *(Recall from EDA - the datetime feature was not a good feature)*"
   ]
  },
  {
   "cell_type": "code",
   "execution_count": 16,
   "metadata": {},
   "outputs": [],
   "source": [
    "df.drop(\"datetime\", axis=1, inplace=True)"
   ]
  },
  {
   "cell_type": "markdown",
   "metadata": {},
   "source": [
    "**Subject Drop** *(Recall from EDA - the subject of mail feature was not a good feature)*"
   ]
  },
  {
   "cell_type": "code",
   "execution_count": 18,
   "metadata": {},
   "outputs": [],
   "source": [
    "df.drop(\"subject\", axis=1, inplace=True)"
   ]
  },
  {
   "cell_type": "markdown",
   "metadata": {},
   "source": [
    "**Topic Drop** *(We took **topic** as an analysis feature, so we don't need it here — we have whole message body!)*"
   ]
  },
  {
   "cell_type": "code",
   "execution_count": 20,
   "metadata": {},
   "outputs": [],
   "source": [
    "df.drop(\"topic\", axis=1, inplace=True)"
   ]
  },
  {
   "cell_type": "markdown",
   "metadata": {},
   "source": [
    "Now finally our dataset looks good. We now need to make a pipeline to make some preprocessing steps like *punctuation removal, lemmatization, and you know those stuff*."
   ]
  },
  {
   "cell_type": "code",
   "execution_count": 22,
   "metadata": {},
   "outputs": [
    {
     "data": {
      "text/html": [
       "<div>\n",
       "<style scoped>\n",
       "    .dataframe tbody tr th:only-of-type {\n",
       "        vertical-align: middle;\n",
       "    }\n",
       "\n",
       "    .dataframe tbody tr th {\n",
       "        vertical-align: top;\n",
       "    }\n",
       "\n",
       "    .dataframe thead th {\n",
       "        text-align: right;\n",
       "    }\n",
       "</style>\n",
       "<table border=\"1\" class=\"dataframe\">\n",
       "  <thead>\n",
       "    <tr style=\"text-align: right;\">\n",
       "      <th></th>\n",
       "      <th>server_mail</th>\n",
       "      <th>from_mail</th>\n",
       "      <th>message</th>\n",
       "      <th>label</th>\n",
       "      <th>n_nouns</th>\n",
       "    </tr>\n",
       "  </thead>\n",
       "  <tbody>\n",
       "    <tr>\n",
       "      <th>1627</th>\n",
       "      <td>lists.sourceforge.net</td>\n",
       "      <td>zurich.ai.mit.edu</td>\n",
       "      <td>emacs rmail varieties different techniques sor...</td>\n",
       "      <td>ham</td>\n",
       "      <td>236</td>\n",
       "    </tr>\n",
       "    <tr>\n",
       "      <th>1334</th>\n",
       "      <td>freshrpms.net</td>\n",
       "      <td>rpmforge.net</td>\n",
       "      <td>upon time brian write fresh new 80 install id ...</td>\n",
       "      <td>ham</td>\n",
       "      <td>497</td>\n",
       "    </tr>\n",
       "    <tr>\n",
       "      <th>2380</th>\n",
       "      <td>jmason.org</td>\n",
       "      <td>example.com</td>\n",
       "      <td>url httpwwwnewsisfreecomclick585535381440 date...</td>\n",
       "      <td>ham</td>\n",
       "      <td>65</td>\n",
       "    </tr>\n",
       "    <tr>\n",
       "      <th>2960</th>\n",
       "      <td>insiq.us</td>\n",
       "      <td>insiq.us</td>\n",
       "      <td>multipart message mime format nextpart000c16f3...</td>\n",
       "      <td>spam</td>\n",
       "      <td>1667</td>\n",
       "    </tr>\n",
       "    <tr>\n",
       "      <th>2984</th>\n",
       "      <td>home-based-business.de</td>\n",
       "      <td>home-based-business.de</td>\n",
       "      <td>hello may see business ignore know many time h...</td>\n",
       "      <td>spam</td>\n",
       "      <td>4962</td>\n",
       "    </tr>\n",
       "    <tr>\n",
       "      <th>2146</th>\n",
       "      <td>jmason.org</td>\n",
       "      <td>example.com</td>\n",
       "      <td>url httpwwwnewsisfreecomclick08357896215 date ...</td>\n",
       "      <td>ham</td>\n",
       "      <td>48</td>\n",
       "    </tr>\n",
       "  </tbody>\n",
       "</table>\n",
       "</div>"
      ],
      "text/plain": [
       "                 server_mail               from_mail  \\\n",
       "1627   lists.sourceforge.net       zurich.ai.mit.edu   \n",
       "1334           freshrpms.net            rpmforge.net   \n",
       "2380              jmason.org             example.com   \n",
       "2960                insiq.us                insiq.us   \n",
       "2984  home-based-business.de  home-based-business.de   \n",
       "2146              jmason.org             example.com   \n",
       "\n",
       "                                                message label  n_nouns  \n",
       "1627  emacs rmail varieties different techniques sor...   ham      236  \n",
       "1334  upon time brian write fresh new 80 install id ...   ham      497  \n",
       "2380  url httpwwwnewsisfreecomclick585535381440 date...   ham       65  \n",
       "2960  multipart message mime format nextpart000c16f3...  spam     1667  \n",
       "2984  hello may see business ignore know many time h...  spam     4962  \n",
       "2146  url httpwwwnewsisfreecomclick08357896215 date ...   ham       48  "
      ]
     },
     "execution_count": 22,
     "metadata": {},
     "output_type": "execute_result"
    }
   ],
   "source": [
    "df.sample(6)"
   ]
  },
  {
   "cell_type": "markdown",
   "metadata": {},
   "source": [
    "**NOTE**: Here I will take care of the ***Curse of Dimentionality*** concept. As we will one hot encode other features like *server_mail* and *from_mail*, there will be a huge sparce metrix of 0 and 1s along with another gigantic sparse matrix of our main *message* feature. So I might drop some feature later if needed.\n"
   ]
  },
  {
   "cell_type": "code",
   "execution_count": 154,
   "metadata": {},
   "outputs": [],
   "source": [
    "# Making features dynamic, so one change will\n",
    "#  impact in others as well.\n",
    "numerical = [\"n_nouns\"]\n",
    "categorical = [\"server_mail\", \"from_mail\"]\n",
    "main_ft = [\"message\"]\n",
    "\n",
    "features_all = numerical + categorical + main_ft\n",
    "features = {\"numerical\": numerical,\n",
    "            \"categorical\": categorical,\n",
    "            \"main_ft\": main_ft}\n",
    "target = \"label\""
   ]
  },
  {
   "cell_type": "code",
   "execution_count": 108,
   "metadata": {},
   "outputs": [],
   "source": [
    "idx = [9, 10, 11, 12, 22, 27, 41, 145, 147, 149,\n",
    "               151, 153, 155, 157, 159, 162, 164, 166,\n",
    "               168, 170, 172, 174, 176, 178]\n",
    "        \n",
    "stopwords_ = stopwords.words(\"english\")\n",
    "tobeadded = re.sub(\"'\", \"\", \" \".join(np.array(stopwords_)[idx])).split()\n",
    "tobeadded = tobeadded + [\"u\", \"r\", \"dont\", \"2002\", \"date\"]\n",
    "stopwords_ = stopwords_ + tobeadded"
   ]
  },
  {
   "cell_type": "code",
   "execution_count": 126,
   "metadata": {},
   "outputs": [],
   "source": [
    "def clean_message(msg):\n",
    "    # Make it low\n",
    "    msg = msg[0]\n",
    "    msg = msg.lower()\n",
    "\n",
    "    # Removing puncs\n",
    "    msg = replacer.sub(\"\", msg)\n",
    "\n",
    "    # Removing stops\n",
    "    msg = [word for word in msg.split() if word not in stopwords_]\n",
    "\n",
    "    # Lemmitizing\n",
    "    msg = [lemma.lemmatize(word, pos=\"v\") for word in msg]\n",
    "    \n",
    "    # Here, we won't need to join. \n",
    "    return msg"
   ]
  },
  {
   "cell_type": "code",
   "execution_count": 141,
   "metadata": {},
   "outputs": [],
   "source": [
    "num_pipe = Pipeline([\n",
    "                (\"imputer\", SimpleImputer()),\n",
    "                (\"scaler\", StandardScaler())\n",
    "            ])\n",
    "\n",
    "cat_pipe = Pipeline([\n",
    "                (\"impuer\", SimpleImputer(strategy=\"most_frequent\")),\n",
    "                (\"onehot\", OneHotEncoder(handle_unknown='ignore'))\n",
    "            ])\n",
    "\n",
    "msg_pipe = Pipeline([\n",
    "                (\"impuer\", SimpleImputer(strategy=\"most_frequent\")),\n",
    "                (\"tfidf\", TfidfVectorizer(analyzer=clean_message))\n",
    "            ])"
   ]
  },
  {
   "cell_type": "code",
   "execution_count": 142,
   "metadata": {},
   "outputs": [],
   "source": [
    "transformer = ColumnTransformer([\n",
    "                (\"num_transformer\", num_pipe, features[\"numerical\"]),\n",
    "                (\"cat_transformer\", cat_pipe, features[\"categorical\"]),\n",
    "                (\"msg_transformer\", msg_pipe, features[\"main_ft\"])\n",
    "            ])"
   ]
  },
  {
   "cell_type": "code",
   "execution_count": 171,
   "metadata": {},
   "outputs": [],
   "source": [
    "X = df.drop(target, axis=1)\n",
    "y = df[target]\n",
    "Xtrain, Xtest, ytrain, ytest = train_test_split(X, y, test_size=0.3)"
   ]
  },
  {
   "cell_type": "code",
   "execution_count": 173,
   "metadata": {},
   "outputs": [],
   "source": [
    "Xtrain = transformer.fit_transform(Xtrain)\n",
    "Xtest = transformer.transform(Xtest)"
   ]
  },
  {
   "cell_type": "code",
   "execution_count": 174,
   "metadata": {},
   "outputs": [
    {
     "data": {
      "text/plain": [
       "<2135x40010 sparse matrix of type '<class 'numpy.float64'>'\n",
       "\twith 203318 stored elements in Compressed Sparse Row format>"
      ]
     },
     "execution_count": 174,
     "metadata": {},
     "output_type": "execute_result"
    }
   ],
   "source": [
    "Xtrain"
   ]
  },
  {
   "cell_type": "code",
   "execution_count": 175,
   "metadata": {},
   "outputs": [
    {
     "data": {
      "text/plain": [
       "<916x40010 sparse matrix of type '<class 'numpy.float64'>'\n",
       "\twith 77893 stored elements in Compressed Sparse Row format>"
      ]
     },
     "execution_count": 175,
     "metadata": {},
     "output_type": "execute_result"
    }
   ],
   "source": [
    "Xtest"
   ]
  },
  {
   "cell_type": "markdown",
   "metadata": {},
   "source": [
    "Cool! Now our data has `40010` features!"
   ]
  },
  {
   "cell_type": "markdown",
   "metadata": {},
   "source": [
    "### "
   ]
  },
  {
   "cell_type": "markdown",
   "metadata": {},
   "source": [
    "## `•` Try different models"
   ]
  },
  {
   "cell_type": "code",
   "execution_count": 187,
   "metadata": {},
   "outputs": [
    {
     "name": "stdout",
     "output_type": "stream",
     "text": [
      "LogisticRegression()\n",
      "---\n",
      "Acc: \n",
      " 0.980349344978166\n",
      "\n",
      "Conf: \n",
      " [[756   3]\n",
      " [ 15 142]]\n",
      "\n",
      "\n",
      "\n",
      "SVC()\n",
      "---\n",
      "Acc: \n",
      " 0.9836244541484717\n",
      "\n",
      "Conf: \n",
      " [[756   3]\n",
      " [ 12 145]]\n",
      "\n",
      "\n",
      "\n",
      "KNeighborsClassifier(n_neighbors=3)\n",
      "---\n",
      "Acc: \n",
      " 0.9814410480349345\n",
      "\n",
      "Conf: \n",
      " [[759   0]\n",
      " [ 17 140]]\n",
      "\n",
      "\n",
      "\n",
      "SGDClassifier()\n",
      "---\n",
      "Acc: \n",
      " 0.9934497816593887\n",
      "\n",
      "Conf: \n",
      " [[755   4]\n",
      " [  2 155]]\n",
      "\n",
      "\n",
      "\n"
     ]
    }
   ],
   "source": [
    "for model in [LogisticRegression(), SVC(), KNeighborsClassifier(n_neighbors=3), SGDClassifier()]:\n",
    "    print(model, end=\"\\n---\\n\")\n",
    "    model.fit(Xtrain, ytrain)\n",
    "    pred = model.predict(Xtest)\n",
    "    print(\"Acc: \\n\", accuracy_score(ytest, pred))\n",
    "    print(\"\\nConf: \\n\", confusion_matrix(ytest, pred))\n",
    "    print(\"\\n\\n\")"
   ]
  },
  {
   "cell_type": "markdown",
   "metadata": {},
   "source": [
    "#### Amazing! Every model is giving freakin' awsome accuracy!"
   ]
  },
  {
   "cell_type": "markdown",
   "metadata": {},
   "source": [
    "0 → HAM  \n",
    "1 → SPAM"
   ]
  },
  {
   "cell_type": "markdown",
   "metadata": {},
   "source": [
    "From all confusion metrices, we can see that all of our models are giving high False Negative values than False Positive values. Which denotes that many messages which were SPAMS we predicted them as HAMS.\n",
    "\n",
    "In some model like KNN, there are `0` False Positives but `17` False Negatives. Which may or may not be a tolerable thing.<br>\n",
    "\n",
    "— Now, after looking at the models' performance - I would put my choice on `SGDClassifier` and `SVC`. They are *top performing* models with the default settings. So now, we can go ahead and do some hypertuning.\n",
    "\n",
    "But at the end, I also want to make the ROC curve, so to compare models for demonstration purposes, we are ***instead of*** using **2** models, we will hypertune **all** 4 models. And then compare their ROC curves with the **best** possible hyperparameters."
   ]
  },
  {
   "cell_type": "markdown",
   "metadata": {},
   "source": [
    "###### "
   ]
  },
  {
   "cell_type": "markdown",
   "metadata": {},
   "source": [
    "## `•` Hypertuning"
   ]
  },
  {
   "cell_type": "markdown",
   "metadata": {},
   "source": [
    "```python\n",
    "# Logistic Params\n",
    "    penalty='l2',\n",
    "    *,\n",
    "    dual=False,\n",
    "    tol=0.0001,\n",
    "    C=1.0,\n",
    "    fit_intercept=True,\n",
    "    intercept_scaling=1,\n",
    "    class_weight=None,\n",
    "    random_state=None,\n",
    "    solver='lbfgs',\n",
    "    max_iter=100,\n",
    "    multi_class='auto',\n",
    "    verbose=0,\n",
    "    warm_start=False,\n",
    "    n_jobs=None,\n",
    "    l1_ratio=None,\n",
    "```"
   ]
  },
  {
   "cell_type": "code",
   "execution_count": 190,
   "metadata": {},
   "outputs": [],
   "source": [
    "param_grid_log_reg = dict(tol=[0.01, 0.00001],\n",
    "                          max_iter=[200, 300, 500],\n",
    "                          warm_start=[True, False])"
   ]
  },
  {
   "cell_type": "markdown",
   "metadata": {},
   "source": [
    "```python\n",
    "# SGD Params\n",
    "    loss='hinge',\n",
    "    *,\n",
    "    penalty='l2',\n",
    "    alpha=0.0001,\n",
    "    l1_ratio=0.15,\n",
    "    fit_intercept=True,\n",
    "    max_iter=1000,\n",
    "    tol=0.001,\n",
    "    shuffle=True,\n",
    "    verbose=0,\n",
    "    epsilon=0.1,\n",
    "    n_jobs=None,\n",
    "    random_state=None,\n",
    "    learning_rate='optimal',\n",
    "    eta0=0.0,\n",
    "    power_t=0.5,\n",
    "    early_stopping=False,\n",
    "    validation_fraction=0.1,\n",
    "    n_iter_no_change=5,\n",
    "    class_weight=None,\n",
    "    warm_start=False,\n",
    "    average=False,\n",
    "```"
   ]
  },
  {
   "cell_type": "code",
   "execution_count": 192,
   "metadata": {},
   "outputs": [],
   "source": [
    "param_grid_SGD_clf = dict(loss=[\"log\", \"squared_loss\", \"hinge\", \"squared_hinge\"],\n",
    "                          max_iter=[1000, 2000, 5000, 10000],\n",
    "                          tol=[0.01, 0.0001, 0.00001],\n",
    "                          eta0=[0.01, 0.0001, 0.3],\n",
    "                          early_stopping=[True, False])"
   ]
  },
  {
   "cell_type": "markdown",
   "metadata": {},
   "source": [
    "```python\n",
    "# KNN    \n",
    "    n_neighbors=5,\n",
    "    *,\n",
    "    weights='uniform',\n",
    "    algorithm='auto',\n",
    "    leaf_size=30,\n",
    "    p=2,\n",
    "    metric='minkowski',\n",
    "    metric_params=None,\n",
    "    n_jobs=None\n",
    "```"
   ]
  },
  {
   "cell_type": "code",
   "execution_count": 200,
   "metadata": {},
   "outputs": [],
   "source": [
    "param_grid_KNN = dict(n_neighbors=[1, 2, 3, 5, 9, 10, 11],\n",
    "                      p=[1, 2, 0.5])"
   ]
  },
  {
   "cell_type": "markdown",
   "metadata": {},
   "source": [
    "```python\n",
    "# SVC\n",
    "    C=1.0,\n",
    "    kernel='rbf',\n",
    "    degree=3,\n",
    "    gamma='scale',\n",
    "    coef0=0.0,\n",
    "    shrinking=True,\n",
    "    probability=False,\n",
    "    tol=0.001,\n",
    "    cache_size=200,\n",
    "    class_weight=None,\n",
    "    verbose=False,\n",
    "    max_iter=-1,\n",
    "    decision_function_shape='ovr',\n",
    "    break_ties=False,\n",
    "    random_state=None,\n",
    "```"
   ]
  },
  {
   "cell_type": "code",
   "execution_count": 201,
   "metadata": {},
   "outputs": [],
   "source": [
    "param_grid_SVC = dict(C=np.arange(1, 50, 3),\n",
    "                      kernel=[\"rbf\", \"poly\", \"sigmoid\"],\n",
    "                      degree=[2, 3, 4])"
   ]
  },
  {
   "cell_type": "code",
   "execution_count": null,
   "metadata": {},
   "outputs": [],
   "source": [
    "models = [KNeighborsClassifier(), LogisticRegression(), SGDClassifier(), SVC()]\n",
    "grids = [param_grid_KNN, param_grid_log_reg, param_grid_SGD_clf, param_grid_SVC]\n",
    "\n",
    "results = []\n",
    "for model, grid in zip(models, grids):\n",
    "    print(model)\n",
    "    GSCV = GridSearchCV(model, grid, verbose=3, scoring=\"accuracy\")\n",
    "    GSCV.fit(Xtrain, ytrain)\n",
    "    results.append(GSCV.cv_results_)\n",
    "    print(\"--\\n\\n\")"
   ]
  },
  {
   "cell_type": "code",
   "execution_count": 205,
   "metadata": {},
   "outputs": [],
   "source": [
    "KNN_res = pd.DataFrame(results[0])\n",
    "Log_res = pd.DataFrame(results[1])\n",
    "SGD_res = pd.DataFrame(results[2])\n",
    "SVC_res = pd.DataFrame(results[3])"
   ]
  },
  {
   "cell_type": "code",
   "execution_count": 208,
   "metadata": {},
   "outputs": [
    {
     "data": {
      "text/html": [
       "<div>\n",
       "<style scoped>\n",
       "    .dataframe tbody tr th:only-of-type {\n",
       "        vertical-align: middle;\n",
       "    }\n",
       "\n",
       "    .dataframe tbody tr th {\n",
       "        vertical-align: top;\n",
       "    }\n",
       "\n",
       "    .dataframe thead th {\n",
       "        text-align: right;\n",
       "    }\n",
       "</style>\n",
       "<table border=\"1\" class=\"dataframe\">\n",
       "  <thead>\n",
       "    <tr style=\"text-align: right;\">\n",
       "      <th></th>\n",
       "      <th>mean_fit_time</th>\n",
       "      <th>std_fit_time</th>\n",
       "      <th>mean_score_time</th>\n",
       "      <th>std_score_time</th>\n",
       "      <th>param_n_neighbors</th>\n",
       "      <th>param_p</th>\n",
       "      <th>params</th>\n",
       "      <th>split0_test_score</th>\n",
       "      <th>split1_test_score</th>\n",
       "      <th>split2_test_score</th>\n",
       "      <th>split3_test_score</th>\n",
       "      <th>split4_test_score</th>\n",
       "      <th>mean_test_score</th>\n",
       "      <th>std_test_score</th>\n",
       "      <th>rank_test_score</th>\n",
       "    </tr>\n",
       "  </thead>\n",
       "  <tbody>\n",
       "    <tr>\n",
       "      <th>1</th>\n",
       "      <td>0.003727</td>\n",
       "      <td>0.006063</td>\n",
       "      <td>0.034956</td>\n",
       "      <td>0.006064</td>\n",
       "      <td>1</td>\n",
       "      <td>2</td>\n",
       "      <td>{'n_neighbors': 1, 'p': 2}</td>\n",
       "      <td>0.976581</td>\n",
       "      <td>0.976581</td>\n",
       "      <td>0.976581</td>\n",
       "      <td>0.992974</td>\n",
       "      <td>0.983607</td>\n",
       "      <td>0.981265</td>\n",
       "      <td>0.006456</td>\n",
       "      <td>1</td>\n",
       "    </tr>\n",
       "  </tbody>\n",
       "</table>\n",
       "</div>"
      ],
      "text/plain": [
       "   mean_fit_time  std_fit_time  mean_score_time  std_score_time  \\\n",
       "1       0.003727      0.006063         0.034956        0.006064   \n",
       "\n",
       "  param_n_neighbors param_p                      params  split0_test_score  \\\n",
       "1                 1       2  {'n_neighbors': 1, 'p': 2}           0.976581   \n",
       "\n",
       "   split1_test_score  split2_test_score  split3_test_score  split4_test_score  \\\n",
       "1           0.976581           0.976581           0.992974           0.983607   \n",
       "\n",
       "   mean_test_score  std_test_score  rank_test_score  \n",
       "1         0.981265        0.006456                1  "
      ]
     },
     "execution_count": 208,
     "metadata": {},
     "output_type": "execute_result"
    }
   ],
   "source": [
    "KNN_res.sort_values(by=\"rank_test_score\").head(1)"
   ]
  },
  {
   "cell_type": "code",
   "execution_count": 211,
   "metadata": {},
   "outputs": [
    {
     "data": {
      "text/html": [
       "<div>\n",
       "<style scoped>\n",
       "    .dataframe tbody tr th:only-of-type {\n",
       "        vertical-align: middle;\n",
       "    }\n",
       "\n",
       "    .dataframe tbody tr th {\n",
       "        vertical-align: top;\n",
       "    }\n",
       "\n",
       "    .dataframe thead th {\n",
       "        text-align: right;\n",
       "    }\n",
       "</style>\n",
       "<table border=\"1\" class=\"dataframe\">\n",
       "  <thead>\n",
       "    <tr style=\"text-align: right;\">\n",
       "      <th></th>\n",
       "      <th>mean_fit_time</th>\n",
       "      <th>std_fit_time</th>\n",
       "      <th>mean_score_time</th>\n",
       "      <th>std_score_time</th>\n",
       "      <th>param_max_iter</th>\n",
       "      <th>param_tol</th>\n",
       "      <th>param_warm_start</th>\n",
       "      <th>params</th>\n",
       "      <th>split0_test_score</th>\n",
       "      <th>split1_test_score</th>\n",
       "      <th>split2_test_score</th>\n",
       "      <th>split3_test_score</th>\n",
       "      <th>split4_test_score</th>\n",
       "      <th>mean_test_score</th>\n",
       "      <th>std_test_score</th>\n",
       "      <th>rank_test_score</th>\n",
       "    </tr>\n",
       "  </thead>\n",
       "  <tbody>\n",
       "    <tr>\n",
       "      <th>0</th>\n",
       "      <td>0.231945</td>\n",
       "      <td>0.124484</td>\n",
       "      <td>0.000401</td>\n",
       "      <td>0.000803</td>\n",
       "      <td>200</td>\n",
       "      <td>0.01</td>\n",
       "      <td>True</td>\n",
       "      <td>{'max_iter': 200, 'tol': 0.01, 'warm_start': T...</td>\n",
       "      <td>0.967213</td>\n",
       "      <td>0.974239</td>\n",
       "      <td>0.967213</td>\n",
       "      <td>0.962529</td>\n",
       "      <td>0.976581</td>\n",
       "      <td>0.969555</td>\n",
       "      <td>0.005131</td>\n",
       "      <td>1</td>\n",
       "    </tr>\n",
       "  </tbody>\n",
       "</table>\n",
       "</div>"
      ],
      "text/plain": [
       "   mean_fit_time  std_fit_time  mean_score_time  std_score_time  \\\n",
       "0       0.231945      0.124484         0.000401        0.000803   \n",
       "\n",
       "  param_max_iter param_tol param_warm_start  \\\n",
       "0            200      0.01             True   \n",
       "\n",
       "                                              params  split0_test_score  \\\n",
       "0  {'max_iter': 200, 'tol': 0.01, 'warm_start': T...           0.967213   \n",
       "\n",
       "   split1_test_score  split2_test_score  split3_test_score  split4_test_score  \\\n",
       "0           0.974239           0.967213           0.962529           0.976581   \n",
       "\n",
       "   mean_test_score  std_test_score  rank_test_score  \n",
       "0         0.969555        0.005131                1  "
      ]
     },
     "execution_count": 211,
     "metadata": {},
     "output_type": "execute_result"
    }
   ],
   "source": [
    "Log_res.sort_values(by=\"rank_test_score\").head(1)"
   ]
  },
  {
   "cell_type": "code",
   "execution_count": 212,
   "metadata": {},
   "outputs": [
    {
     "data": {
      "text/html": [
       "<div>\n",
       "<style scoped>\n",
       "    .dataframe tbody tr th:only-of-type {\n",
       "        vertical-align: middle;\n",
       "    }\n",
       "\n",
       "    .dataframe tbody tr th {\n",
       "        vertical-align: top;\n",
       "    }\n",
       "\n",
       "    .dataframe thead th {\n",
       "        text-align: right;\n",
       "    }\n",
       "</style>\n",
       "<table border=\"1\" class=\"dataframe\">\n",
       "  <thead>\n",
       "    <tr style=\"text-align: right;\">\n",
       "      <th></th>\n",
       "      <th>mean_fit_time</th>\n",
       "      <th>std_fit_time</th>\n",
       "      <th>mean_score_time</th>\n",
       "      <th>std_score_time</th>\n",
       "      <th>param_early_stopping</th>\n",
       "      <th>param_eta0</th>\n",
       "      <th>param_loss</th>\n",
       "      <th>param_max_iter</th>\n",
       "      <th>param_tol</th>\n",
       "      <th>params</th>\n",
       "      <th>split0_test_score</th>\n",
       "      <th>split1_test_score</th>\n",
       "      <th>split2_test_score</th>\n",
       "      <th>split3_test_score</th>\n",
       "      <th>split4_test_score</th>\n",
       "      <th>mean_test_score</th>\n",
       "      <th>std_test_score</th>\n",
       "      <th>rank_test_score</th>\n",
       "    </tr>\n",
       "  </thead>\n",
       "  <tbody>\n",
       "    <tr>\n",
       "      <th>275</th>\n",
       "      <td>0.009296</td>\n",
       "      <td>0.00531</td>\n",
       "      <td>0.000602</td>\n",
       "      <td>0.000491</td>\n",
       "      <td>False</td>\n",
       "      <td>0.3</td>\n",
       "      <td>hinge</td>\n",
       "      <td>10000</td>\n",
       "      <td>1e-05</td>\n",
       "      <td>{'early_stopping': False, 'eta0': 0.3, 'loss':...</td>\n",
       "      <td>0.983607</td>\n",
       "      <td>0.98829</td>\n",
       "      <td>0.98829</td>\n",
       "      <td>0.990632</td>\n",
       "      <td>0.983607</td>\n",
       "      <td>0.986885</td>\n",
       "      <td>0.00281</td>\n",
       "      <td>1</td>\n",
       "    </tr>\n",
       "  </tbody>\n",
       "</table>\n",
       "</div>"
      ],
      "text/plain": [
       "     mean_fit_time  std_fit_time  mean_score_time  std_score_time  \\\n",
       "275       0.009296       0.00531         0.000602        0.000491   \n",
       "\n",
       "    param_early_stopping param_eta0 param_loss param_max_iter param_tol  \\\n",
       "275                False        0.3      hinge          10000     1e-05   \n",
       "\n",
       "                                                params  split0_test_score  \\\n",
       "275  {'early_stopping': False, 'eta0': 0.3, 'loss':...           0.983607   \n",
       "\n",
       "     split1_test_score  split2_test_score  split3_test_score  \\\n",
       "275            0.98829            0.98829           0.990632   \n",
       "\n",
       "     split4_test_score  mean_test_score  std_test_score  rank_test_score  \n",
       "275           0.983607         0.986885         0.00281                1  "
      ]
     },
     "execution_count": 212,
     "metadata": {},
     "output_type": "execute_result"
    }
   ],
   "source": [
    "SGD_res.sort_values(by=\"rank_test_score\").head(1)"
   ]
  },
  {
   "cell_type": "code",
   "execution_count": 213,
   "metadata": {},
   "outputs": [
    {
     "data": {
      "text/html": [
       "<div>\n",
       "<style scoped>\n",
       "    .dataframe tbody tr th:only-of-type {\n",
       "        vertical-align: middle;\n",
       "    }\n",
       "\n",
       "    .dataframe tbody tr th {\n",
       "        vertical-align: top;\n",
       "    }\n",
       "\n",
       "    .dataframe thead th {\n",
       "        text-align: right;\n",
       "    }\n",
       "</style>\n",
       "<table border=\"1\" class=\"dataframe\">\n",
       "  <thead>\n",
       "    <tr style=\"text-align: right;\">\n",
       "      <th></th>\n",
       "      <th>mean_fit_time</th>\n",
       "      <th>std_fit_time</th>\n",
       "      <th>mean_score_time</th>\n",
       "      <th>std_score_time</th>\n",
       "      <th>param_C</th>\n",
       "      <th>param_degree</th>\n",
       "      <th>param_kernel</th>\n",
       "      <th>params</th>\n",
       "      <th>split0_test_score</th>\n",
       "      <th>split1_test_score</th>\n",
       "      <th>split2_test_score</th>\n",
       "      <th>split3_test_score</th>\n",
       "      <th>split4_test_score</th>\n",
       "      <th>mean_test_score</th>\n",
       "      <th>std_test_score</th>\n",
       "      <th>rank_test_score</th>\n",
       "    </tr>\n",
       "  </thead>\n",
       "  <tbody>\n",
       "    <tr>\n",
       "      <th>39</th>\n",
       "      <td>1.01154</td>\n",
       "      <td>0.052466</td>\n",
       "      <td>0.244295</td>\n",
       "      <td>0.017807</td>\n",
       "      <td>13</td>\n",
       "      <td>3</td>\n",
       "      <td>rbf</td>\n",
       "      <td>{'C': 13, 'degree': 3, 'kernel': 'rbf'}</td>\n",
       "      <td>0.976581</td>\n",
       "      <td>0.983607</td>\n",
       "      <td>0.983607</td>\n",
       "      <td>0.990632</td>\n",
       "      <td>0.985948</td>\n",
       "      <td>0.984075</td>\n",
       "      <td>0.004541</td>\n",
       "      <td>1</td>\n",
       "    </tr>\n",
       "  </tbody>\n",
       "</table>\n",
       "</div>"
      ],
      "text/plain": [
       "    mean_fit_time  std_fit_time  mean_score_time  std_score_time param_C  \\\n",
       "39        1.01154      0.052466         0.244295        0.017807      13   \n",
       "\n",
       "   param_degree param_kernel                                   params  \\\n",
       "39            3          rbf  {'C': 13, 'degree': 3, 'kernel': 'rbf'}   \n",
       "\n",
       "    split0_test_score  split1_test_score  split2_test_score  \\\n",
       "39           0.976581           0.983607           0.983607   \n",
       "\n",
       "    split3_test_score  split4_test_score  mean_test_score  std_test_score  \\\n",
       "39           0.990632           0.985948         0.984075        0.004541   \n",
       "\n",
       "    rank_test_score  \n",
       "39                1  "
      ]
     },
     "execution_count": 213,
     "metadata": {},
     "output_type": "execute_result"
    }
   ],
   "source": [
    "SVC_res.sort_values(by=\"rank_test_score\").head(1)"
   ]
  },
  {
   "cell_type": "markdown",
   "metadata": {},
   "source": [
    "The third split always gives the better result. Let's use all those hyperparams and train it in whole Xtrain."
   ]
  },
  {
   "cell_type": "code",
   "execution_count": 222,
   "metadata": {},
   "outputs": [],
   "source": [
    "KNN_params = KNN_res.sort_values(by=\"rank_test_score\").head(1)[\"params\"].values.flatten()[0]\n",
    "Log_params = Log_res.sort_values(by=\"rank_test_score\").head(1)[\"params\"].values.flatten()[0]\n",
    "SGD_params = SGD_res.sort_values(by=\"rank_test_score\").head(1)[\"params\"].values.flatten()[0]\n",
    "SVC_params = SVC_res.sort_values(by=\"rank_test_score\").head(1)[\"params\"].values.flatten()[0]"
   ]
  },
  {
   "cell_type": "code",
   "execution_count": 227,
   "metadata": {},
   "outputs": [
    {
     "data": {
      "text/plain": [
       "{'C': 13, 'degree': 3, 'kernel': 'rbf'}"
      ]
     },
     "execution_count": 227,
     "metadata": {},
     "output_type": "execute_result"
    }
   ],
   "source": [
    "SVC_params"
   ]
  },
  {
   "cell_type": "code",
   "execution_count": 226,
   "metadata": {},
   "outputs": [
    {
     "name": "stdout",
     "output_type": "stream",
     "text": [
      "KNeighborsClassifier(n_neighbors=1)\n",
      "Acc: \n",
      " 0.9890829694323144\n",
      "\n",
      "Conf: \n",
      " [[759   0]\n",
      " [ 10 147]]\n",
      "\n",
      "\n",
      "\n",
      "LogisticRegression(max_iter=200, tol=0.01, warm_start=True)\n",
      "Acc: \n",
      " 0.980349344978166\n",
      "\n",
      "Conf: \n",
      " [[756   3]\n",
      " [ 15 142]]\n",
      "\n",
      "\n",
      "\n",
      "SGDClassifier(eta0=0.3, max_iter=10000, tol=1e-05)\n",
      "Acc: \n",
      " 0.990174672489083\n",
      "\n",
      "Conf: \n",
      " [[756   3]\n",
      " [  6 151]]\n",
      "\n",
      "\n",
      "\n",
      "SVC(C=13)\n",
      "Acc: \n",
      " 0.9912663755458515\n",
      "\n",
      "Conf: \n",
      " [[756   3]\n",
      " [  5 152]]\n",
      "\n",
      "\n",
      "\n"
     ]
    }
   ],
   "source": [
    "for model in [KNeighborsClassifier(**KNN_params), LogisticRegression(**Log_params), \n",
    "            SGDClassifier(**SGD_params), SVC(**SVC_params)]:\n",
    "    print(model)\n",
    "    model.fit(Xtrain, ytrain)\n",
    "    pred = model.predict(Xtest)\n",
    "    print(\"Acc: \\n\", accuracy_score(ytest, pred))\n",
    "    print(\"\\nConf: \\n\", confusion_matrix(ytest, pred))\n",
    "    print(\"\\n\\n\")"
   ]
  },
  {
   "cell_type": "markdown",
   "metadata": {},
   "source": [
    "Amazing! ***Except*** Logistic and KNN the ***rest are giving*** `99% +` accuracy!"
   ]
  },
  {
   "cell_type": "markdown",
   "metadata": {},
   "source": [
    "# `•` Make a learning curve"
   ]
  },
  {
   "cell_type": "code",
   "execution_count": 247,
   "metadata": {},
   "outputs": [],
   "source": [
    "models = [KNeighborsClassifier(**KNN_params), LogisticRegression(**Log_params), \n",
    "             SGDClassifier(**SGD_params), SVC(**SVC_params)]\n",
    "\n",
    "m_names = [\"KNN\", \"Logistic Regression\", \"SGD Classifier\", \"SVC\"]\n",
    "\n",
    "def get_lc(th, ax):\n",
    "    N, train_lc, val_lc = learning_curve(models[th], Xtrain, ytrain, train_sizes=[.01, .05, .10, .25, .50, .60, .75, .90, 1])\n",
    "\n",
    "    ax.plot(N, np.mean(train_lc, 1), label=\"Training Curve\")\n",
    "    ax.plot(N, np.mean(val_lc, 1), label=\"Validation Curve\")\n",
    "    ax.set_title(f\"{m_names[th]}'s Learning Curve\")\n",
    "    ax.legend();"
   ]
  },
  {
   "cell_type": "code",
   "execution_count": 251,
   "metadata": {},
   "outputs": [
    {
     "data": {
      "image/png": "[encoded data removed]",
      "text/plain": [
       "<Figure size 1440x720 with 4 Axes>"
      ]
     },
     "metadata": {
      "needs_background": "light"
     },
     "output_type": "display_data"
    }
   ],
   "source": [
    "fig, axes = plt.subplots(2, 2, figsize=(20, 10))\n",
    "get_lc(0, axes[0][0])\n",
    "get_lc(1, axes[0][1])\n",
    "get_lc(2, axes[1][0])\n",
    "get_lc(3, axes[1][1])"
   ]
  },
  {
   "cell_type": "markdown",
   "metadata": {},
   "source": [
    "Of course, the more data, the better accuracy. "
   ]
  },
  {
   "cell_type": "markdown",
   "metadata": {},
   "source": [
    "###### "
   ]
  },
  {
   "cell_type": "markdown",
   "metadata": {},
   "source": [
    "# `•` Make ROC curve"
   ]
  },
  {
   "cell_type": "code",
   "execution_count": 259,
   "metadata": {},
   "outputs": [],
   "source": [
    "preds = []\n",
    "for th, model in enumerate([KNeighborsClassifier(**KNN_params), LogisticRegression(**Log_params), \n",
    "                                SGDClassifier(**SGD_params), SVC(**SVC_params, probability=True)]):\n",
    "    model.fit(Xtrain, ytrain)\n",
    "    if not th == 2:\n",
    "        preds.append(model.predict_proba(Xtest))\n",
    "    else:\n",
    "        preds.append(model.decision_function(Xtest))"
   ]
  },
  {
   "cell_type": "markdown",
   "metadata": {},
   "source": [
    "Actually, to get the ROC curve with SGD Model, the `loss=\"hinge\"` is not supported to return the probabilities. So we will use the `decision_function` there. "
   ]
  },
  {
   "cell_type": "code",
   "execution_count": 306,
   "metadata": {},
   "outputs": [
    {
     "data": {
      "image/png": "[encoded data removed]",
      "text/plain": [
       "<Figure size 1080x720 with 2 Axes>"
      ]
     },
     "metadata": {
      "needs_background": "light"
     },
     "output_type": "display_data"
    }
   ],
   "source": [
    "fig = plt.figure(figsize=(15, 10))\n",
    "\n",
    "main_ax = plt.axes()\n",
    "subplot = fig.add_axes([.5, .3, .3, .3])\n",
    "\n",
    "fpr, tpr, thresh = roc_curve(pd.Categorical(ytest).codes, preds[0][:, 1])\n",
    "main_ax.plot(fpr, tpr, label=m_names[0])\n",
    "subplot.plot(fpr, tpr, label=m_names[0])\n",
    "\n",
    "fpr, tpr, thresh = roc_curve(pd.Categorical(ytest).codes, preds[1][:, 1])\n",
    "main_ax.plot(fpr, tpr, label=m_names[1])\n",
    "subplot.plot(fpr, tpr, label=m_names[0])\n",
    "\n",
    "fpr, tpr, thresh = roc_curve(pd.Categorical(ytest).codes, preds[2])\n",
    "main_ax.plot(fpr, tpr, label=m_names[2])\n",
    "subplot.plot(fpr, tpr, label=m_names[0])\n",
    "\n",
    "fpr, tpr, thresh = roc_curve(pd.Categorical(ytest).codes, preds[3][:, 1])\n",
    "main_ax.plot(fpr, tpr, label=m_names[3])\n",
    "subplot.plot(fpr, tpr, label=m_names[0])\n",
    "\n",
    "main_ax.set_ylim([0.8, 1.01])\n",
    "main_ax.set_xlim([-0.05, .5])\n",
    "main_ax.set_title(\"The ROC Curve of all models (zommed)\")\n",
    "subplot.set_title(\"The ROC Curve of all models (zommed-out)\")\n",
    "main_ax.legend();"
   ]
  },
  {
   "cell_type": "markdown",
   "metadata": {},
   "source": [
    "Overall the SVC's ROC curve's AUC is higher than all of the others. So, you know... we can **decalare SVC** as the **WINNER** "
   ]
  },
  {
   "cell_type": "code",
   "execution_count": 321,
   "metadata": {},
   "outputs": [
    {
     "data": {
      "text/plain": [
       "{'C': 13, 'degree': 3, 'kernel': 'rbf'}"
      ]
     },
     "execution_count": 321,
     "metadata": {},
     "output_type": "execute_result"
    }
   ],
   "source": [
    "SVC_params"
   ]
  },
  {
   "cell_type": "markdown",
   "metadata": {},
   "source": [
    "# <center> 🎉 SVC is the WINNER 🎉 </center>"
   ]
  },
  {
   "cell_type": "markdown",
   "metadata": {},
   "source": [
    "# `•` Make PR curve"
   ]
  },
  {
   "cell_type": "code",
   "execution_count": 320,
   "metadata": {},
   "outputs": [
    {
     "data": {
      "image/png": "[encoded data removed]",
      "text/plain": [
       "<Figure size 720x720 with 4 Axes>"
      ]
     },
     "metadata": {
      "needs_background": "light"
     },
     "output_type": "display_data"
    }
   ],
   "source": [
    "fig, axes = plt.subplots(2, 2, figsize=(10, 10))\n",
    "axes = axes.flatten()\n",
    "\n",
    "pre, re, thresh = precision_recall_curve(pd.Categorical(ytest).codes, preds[0][:, 1])\n",
    "axes[0].plot(thresh, pre[:-1])\n",
    "axes[0].plot(thresh, re[:-1])\n",
    "axes[0].set_title(m_names[0])\n",
    "\n",
    "pre, re, thresh = precision_recall_curve(pd.Categorical(ytest).codes, preds[1][:, 1])\n",
    "axes[1].plot(thresh, pre[:-1])\n",
    "axes[1].plot(thresh, re[:-1])\n",
    "axes[1].set_title(m_names[1])\n",
    "\n",
    "pre, re, thresh = precision_recall_curve(pd.Categorical(ytest).codes, preds[2])\n",
    "axes[2].plot(thresh, pre[:-1])\n",
    "axes[2].plot(thresh, re[:-1])\n",
    "axes[2].set_title(m_names[2])\n",
    "\n",
    "pre, re, thresh = precision_recall_curve(pd.Categorical(ytest).codes, preds[3][:, 1])\n",
    "axes[3].plot(thresh, pre[:-1], label=\"Precision\")\n",
    "axes[3].plot(thresh, re[:-1], label=\"Recall\")\n",
    "axes[3].set_title(m_names[3])\n",
    "\n",
    "plt.legend(loc=[1.2, 1]);"
   ]
  },
  {
   "cell_type": "markdown",
   "metadata": {},
   "source": [
    "Here, if we want to choose SVM we will choose ~ `0.4` as our threshold value."
   ]
  },
  {
   "cell_type": "markdown",
   "metadata": {},
   "source": [
    "# "
   ]
  },
  {
   "cell_type": "markdown",
   "metadata": {},
   "source": [
    "# Amazing!\n",
    "We did it! The accuracy is above `99%` in the final SVC model.\n",
    "\n",
    "Thanks for reading this far! <br>\n",
    "Aayush **∞** Shah"
   ]
  }
 ],
 "metadata": {
  "kernelspec": {
   "display_name": "Python 3",
   "language": "python",
   "name": "python3"
  },
  "language_info": {
   "codemirror_mode": {
    "name": "ipython",
    "version": 3
   },
   "file_extension": ".py",
   "mimetype": "text/x-python",
   "name": "python",
   "nbconvert_exporter": "python",
   "pygments_lexer": "ipython3",
   "version": "3.8.5"
  }
 },
 "nbformat": 4,
 "nbformat_minor": 4
}
