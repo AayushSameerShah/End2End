{
 "cells": [
  {
   "cell_type": "markdown",
   "metadata": {},
   "source": [
    "# Spam Ham EDA\n",
    "Hello!<br>\n",
    "This time, I have brought a new project to be done. It is about the binary classification of *SPAM* and *HAM* mails. The dataset is downloaded from [Kaggle](https://www.kaggle.com/veleon/ham-and-spam-dataset).\n",
    "\n",
    "The dataset consists `2,551` HAM mails ans `501` SPAM mails.<br>\n",
    "Kindly note that, this project is divided in ***2 notebooks***:\n",
    "1. Dataset loading and exploration (this book)\n",
    "2. Machine Learning pipeline, training and evaluation (next book)\n",
    "\n",
    "— <br>\n",
    "So, let's get started."
   ]
  },
  {
   "cell_type": "markdown",
   "metadata": {},
   "source": [
    "# "
   ]
  },
  {
   "cell_type": "markdown",
   "metadata": {},
   "source": [
    "> <b><font face=\"neuville\" style=\"font-size:50px\">DATA <br>LOADING & PREPARATION</font></b>"
   ]
  },
  {
   "cell_type": "code",
   "execution_count": 1,
   "metadata": {},
   "outputs": [],
   "source": [
    "# Basic imports\n",
    "import pandas as pd, numpy as np\n",
    "import matplotlib.pyplot as plt, seaborn as sns\n",
    "\n",
    "# Other file related imports\n",
    "import os"
   ]
  },
  {
   "cell_type": "code",
   "execution_count": null,
   "metadata": {},
   "outputs": [],
   "source": [
    "# Testing file's content for checking\n",
    "DATASOURCE = \"./DataSource\"\n",
    "\n",
    "with open(DATASOURCE + \"/ham/0001.ea7e79d3153e7469e7a9c3e0af6a357e\") as file:\n",
    "    file = file.readlines()"
   ]
  },
  {
   "cell_type": "code",
   "execution_count": 3,
   "metadata": {},
   "outputs": [
    {
     "data": {
      "text/plain": [
       "['From exmh-workers-admin@redhat.com  Thu Aug 22 12:36:23 2002\\n',\n",
       " 'Return-Path: <exmh-workers-admin@example.com>\\n',\n",
       " 'Delivered-To: zzzz@localhost.netnoteinc.com\\n',\n",
       " 'Received: from localhost (localhost [127.0.0.1])\\n',\n",
       " '\\tby phobos.labs.netnoteinc.com (Postfix) with ESMTP id D03E543C36\\n']"
      ]
     },
     "execution_count": 3,
     "metadata": {},
     "output_type": "execute_result"
    }
   ],
   "source": [
    "file[: 5]"
   ]
  },
  {
   "cell_type": "markdown",
   "metadata": {},
   "source": [
    "Okay, now we know that our files can be opened directly as the text files. It has content inside it which also includes the header of the email, subject, metadata and then finally the body. We are interested specially in the mail's body.\n",
    "\n",
    "We might have to use the Regular Expressions to extract the mail info. But for now, let's go forward."
   ]
  },
  {
   "cell_type": "code",
   "execution_count": 4,
   "metadata": {},
   "outputs": [],
   "source": [
    "# SPAM and HAM files names from each folder\n",
    "\n",
    "ham_files = os.listdir(DATASOURCE + \"/ham\")[1:]\n",
    "spam_files = os.listdir(DATASOURCE + \"/spam\")[1:]"
   ]
  },
  {
   "cell_type": "code",
   "execution_count": 5,
   "metadata": {},
   "outputs": [
    {
     "data": {
      "text/plain": [
       "2551"
      ]
     },
     "execution_count": 5,
     "metadata": {},
     "output_type": "execute_result"
    }
   ],
   "source": [
    "len(ham_files)"
   ]
  },
  {
   "cell_type": "code",
   "execution_count": 6,
   "metadata": {},
   "outputs": [
    {
     "data": {
      "text/plain": [
       "500"
      ]
     },
     "execution_count": 6,
     "metadata": {},
     "output_type": "execute_result"
    }
   ],
   "source": [
    "len(spam_files)"
   ]
  },
  {
   "cell_type": "markdown",
   "metadata": {},
   "source": [
    "Storing SPAMS"
   ]
  },
  {
   "cell_type": "code",
   "execution_count": 7,
   "metadata": {},
   "outputs": [],
   "source": [
    "# Storing each mail (raw text) in the `spam_mails` list\n",
    "\n",
    "spam_mails = []\n",
    "for fileName in spam_files:\n",
    "    try:\n",
    "        with open(DATASOURCE + \"/spam/\" + fileName) as f:\n",
    "            data = f.read()\n",
    "            spam_mails.append(data)\n",
    "    except:\n",
    "        with open(DATASOURCE + \"/spam/\" + fileName, encoding=\"Latin-1\") as f:\n",
    "            data = f.read()\n",
    "            spam_mails.append(data)"
   ]
  },
  {
   "cell_type": "markdown",
   "metadata": {},
   "source": [
    "Storing HAMS"
   ]
  },
  {
   "cell_type": "code",
   "execution_count": 8,
   "metadata": {},
   "outputs": [],
   "source": [
    "# Storing each mail (raw text) in the `ham_mails` list\n",
    "\n",
    "ham_mails = []\n",
    "for fileName in ham_files:\n",
    "    try:\n",
    "        with open(DATASOURCE + \"/ham/\" + fileName) as f:\n",
    "            data = f.read()\n",
    "            ham_mails.append(data)\n",
    "    except:\n",
    "        with open(DATASOURCE + \"/ham/\" + fileName, encoding=\"Latin-1\") as f:\n",
    "            data = f.read()\n",
    "            ham_mails.append(data)"
   ]
  },
  {
   "cell_type": "markdown",
   "metadata": {},
   "source": [
    "**Now** that we have the mails from each category, we can start *preprocessing* it to make it in a **usable format.**"
   ]
  },
  {
   "cell_type": "markdown",
   "metadata": {},
   "source": [
    "We will extract the following information from the emails:\n",
    "1. `server mail address` from the first line in each mail (header part)\n",
    "2. `from mail address` this will be somewhere in the middle of the mail (header part)\n",
    "3. `datetime` when the mail was sent\n",
    "4. `body` actual text which makes it an *email*"
   ]
  },
  {
   "cell_type": "code",
   "execution_count": 9,
   "metadata": {},
   "outputs": [],
   "source": [
    "import re"
   ]
  },
  {
   "cell_type": "code",
   "execution_count": 10,
   "metadata": {},
   "outputs": [],
   "source": [
    "# This will extract the first server mail\n",
    "pat_FROM = re.compile(\"from (.*?) \", flags=re.I)"
   ]
  },
  {
   "cell_type": "code",
   "execution_count": 11,
   "metadata": {},
   "outputs": [],
   "source": [
    "match = pat_FROM.match(spam_mails[6])"
   ]
  },
  {
   "cell_type": "code",
   "execution_count": 12,
   "metadata": {},
   "outputs": [
    {
     "data": {
      "text/plain": [
       "('fort@bluemail.dk',)"
      ]
     },
     "execution_count": 12,
     "metadata": {},
     "output_type": "execute_result"
    }
   ],
   "source": [
    "match.groups()"
   ]
  },
  {
   "cell_type": "markdown",
   "metadata": {},
   "source": [
    "We get ↑ this from this ↓"
   ]
  },
  {
   "cell_type": "code",
   "execution_count": 13,
   "metadata": {},
   "outputs": [
    {
     "data": {
      "text/plain": [
       "'From fort@bluemail.dk  Thu Aug 22 18:28:10 2002\\nReturn-Path: <fort@bluemail.dk>\\nDelivered-To: zzzz@l'"
      ]
     },
     "execution_count": 13,
     "metadata": {},
     "output_type": "execute_result"
    }
   ],
   "source": [
    "spam_mails[6][:100]"
   ]
  },
  {
   "cell_type": "code",
   "execution_count": 14,
   "metadata": {},
   "outputs": [],
   "source": [
    "# This will extract the datetime\n",
    "pat_DATE = re.compile(\"from .*?  (.*)\", flags=re.I)"
   ]
  },
  {
   "cell_type": "code",
   "execution_count": 15,
   "metadata": {},
   "outputs": [],
   "source": [
    "match = pat_DATE.match(spam_mails[123])"
   ]
  },
  {
   "cell_type": "code",
   "execution_count": 17,
   "metadata": {},
   "outputs": [
    {
     "data": {
      "text/plain": [
       "('Mon Aug 26 19:24:08 2002',)"
      ]
     },
     "execution_count": 17,
     "metadata": {},
     "output_type": "execute_result"
    }
   ],
   "source": [
    "match.groups()"
   ]
  },
  {
   "cell_type": "markdown",
   "metadata": {},
   "source": [
    "## "
   ]
  },
  {
   "cell_type": "code",
   "execution_count": 18,
   "metadata": {},
   "outputs": [],
   "source": [
    "# Here using the same patterns as we seen above and other 2 for next 2 information listed above.\n",
    "pat_FROM_FIRST = re.compile(\"from (.*?) \", flags=re.I)\n",
    "pat_FROM_MIDDLE = re.compile(\"From: (.*)\", flags=re.I | re.M)\n",
    "pat_DATE = re.compile(\"from .*?  (.*)\", flags=re.I)\n",
    "pat_SUBJECT = re.compile(\"subject: (.*)\", flags=re.I | re.M)"
   ]
  },
  {
   "cell_type": "code",
   "execution_count": 19,
   "metadata": {},
   "outputs": [],
   "source": [
    "# This will iterate through all SPAM mails and get the information\n",
    "# and stores in ↓ this list\n",
    "\n",
    "spam_from_and_date = []\n",
    "for mail in spam_mails:\n",
    "    try: from_middle_ = pat_FROM_MIDDLE.findall(mail)[0]\n",
    "    except: from_middle_ = np.nan\n",
    "        \n",
    "    try: from_first_ = pat_FROM_FIRST.match(mail).groups()[0]\n",
    "    except: from_first_ = np.nan\n",
    "        \n",
    "    try: datetime_ = pat_DATE.match(mail).groups()[0]\n",
    "    except: datetime_ = np.nan\n",
    "        \n",
    "    try: subject_ = pat_SUBJECT.findall(mail)[0]\n",
    "    except: subject_ = np.nan\n",
    "\n",
    "    spam_from_and_date.append((from_first_, from_middle_, datetime_, subject_))"
   ]
  },
  {
   "cell_type": "code",
   "execution_count": 20,
   "metadata": {},
   "outputs": [
    {
     "data": {
      "text/plain": [
       "500"
      ]
     },
     "execution_count": 20,
     "metadata": {},
     "output_type": "execute_result"
    }
   ],
   "source": [
    "len(spam_from_and_date)"
   ]
  },
  {
   "cell_type": "code",
   "execution_count": 21,
   "metadata": {},
   "outputs": [],
   "source": [
    "# This will iterate through all HAM mails and get the information\n",
    "# and store in ↓ this list\n",
    "\n",
    "ham_from_and_date = []\n",
    "for mail in ham_mails:\n",
    "    try: from_middle_ = pat_FROM_MIDDLE.findall(mail)[0]\n",
    "    except: from_middle_ = np.nan\n",
    "        \n",
    "    try: from_first_ = pat_FROM_FIRST.match(mail).groups()[0]\n",
    "    except: from_first_ = np.nan\n",
    "        \n",
    "    try: datetime_ = pat_DATE.match(mail).groups()[0]\n",
    "    except: datetime_ = np.nan\n",
    "        \n",
    "    try: subject_ = pat_SUBJECT.findall(mail)[0]\n",
    "    except: subject_ = np.nan\n",
    "        \n",
    "    ham_from_and_date.append((from_first_, from_middle_, datetime_, subject_))"
   ]
  },
  {
   "cell_type": "code",
   "execution_count": 22,
   "metadata": {},
   "outputs": [
    {
     "data": {
      "text/plain": [
       "2551"
      ]
     },
     "execution_count": 22,
     "metadata": {},
     "output_type": "execute_result"
    }
   ],
   "source": [
    "len(ham_from_and_date)"
   ]
  },
  {
   "cell_type": "code",
   "execution_count": 24,
   "metadata": {},
   "outputs": [],
   "source": [
    "# We don't need these\n",
    "del ham_files, spam_files"
   ]
  },
  {
   "cell_type": "markdown",
   "metadata": {},
   "source": [
    "___"
   ]
  },
  {
   "cell_type": "markdown",
   "metadata": {},
   "source": [
    "Now, we will extract the body. **The real mail.**"
   ]
  },
  {
   "cell_type": "code",
   "execution_count": 43,
   "metadata": {},
   "outputs": [],
   "source": [
    "# This will be simple. All mails are sepereated with their header\n",
    "# with 2 \\n\n",
    "\n",
    "ham_body = []\n",
    "for mail in ham_mails:\n",
    "    ham_body.append(mail.partition(\"\\n\\n\")[-1])\n",
    "    \n",
    "spam_body = []\n",
    "for mail in spam_mails:\n",
    "    spam_body.append(mail.partition(\"\\n\\n\")[-1])"
   ]
  },
  {
   "cell_type": "code",
   "execution_count": 49,
   "metadata": {},
   "outputs": [],
   "source": [
    "# Again removing these as we don't need them\n",
    "del spam_mails, ham_mails"
   ]
  },
  {
   "cell_type": "markdown",
   "metadata": {},
   "source": [
    "# "
   ]
  },
  {
   "cell_type": "markdown",
   "metadata": {},
   "source": [
    "#### So, now we have the body of each messages... why don't we construct a dataframe directly?"
   ]
  },
  {
   "cell_type": "markdown",
   "metadata": {},
   "source": [
    "Initial DF"
   ]
  },
  {
   "cell_type": "code",
   "execution_count": 56,
   "metadata": {},
   "outputs": [
    {
     "name": "stdout",
     "output_type": "stream",
     "text": [
      "Shape →  (500, 4)\n"
     ]
    },
    {
     "data": {
      "text/html": [
       "<div>\n",
       "<style scoped>\n",
       "    .dataframe tbody tr th:only-of-type {\n",
       "        vertical-align: middle;\n",
       "    }\n",
       "\n",
       "    .dataframe tbody tr th {\n",
       "        vertical-align: top;\n",
       "    }\n",
       "\n",
       "    .dataframe thead th {\n",
       "        text-align: right;\n",
       "    }\n",
       "</style>\n",
       "<table border=\"1\" class=\"dataframe\">\n",
       "  <thead>\n",
       "    <tr style=\"text-align: right;\">\n",
       "      <th></th>\n",
       "      <th>server_mail</th>\n",
       "      <th>from_mail</th>\n",
       "      <th>datetime</th>\n",
       "      <th>subject</th>\n",
       "    </tr>\n",
       "  </thead>\n",
       "  <tbody>\n",
       "    <tr>\n",
       "      <th>0</th>\n",
       "      <td>12a1mailbot1@web.de</td>\n",
       "      <td>12a1mailbot1@web.de</td>\n",
       "      <td>Thu Aug 22 13:17:22 2002</td>\n",
       "      <td>Life Insurance - Why Pay More?</td>\n",
       "    </tr>\n",
       "    <tr>\n",
       "      <th>1</th>\n",
       "      <td>ilug-admin@linux.ie</td>\n",
       "      <td>\"Slim Down\" &lt;taylor@s3.serveimage.com&gt;</td>\n",
       "      <td>Thu Aug 22 13:27:39 2002</td>\n",
       "      <td>[ILUG] Guaranteed to lose 10-12 lbs in 30 days...</td>\n",
       "    </tr>\n",
       "    <tr>\n",
       "      <th>2</th>\n",
       "      <td>sabrina@mx3.1premio.com</td>\n",
       "      <td>\"Slim Down\" &lt;sabrina@mx3.1premio.com&gt;</td>\n",
       "      <td>Thu Aug 22 14:44:07 2002</td>\n",
       "      <td>Guaranteed to lose 10-12 lbs in 30 days       ...</td>\n",
       "    </tr>\n",
       "    <tr>\n",
       "      <th>3</th>\n",
       "      <td>wsup@playful.com</td>\n",
       "      <td>Account Services &lt;wsup@playful.com&gt;</td>\n",
       "      <td>Thu Aug 22 16:17:00 2002</td>\n",
       "      <td>Re: Fw: User Name &amp; Password to Membership To ...</td>\n",
       "    </tr>\n",
       "    <tr>\n",
       "      <th>4</th>\n",
       "      <td>social-admin@linux.ie</td>\n",
       "      <td>\"Slim n Trim\" &lt;yenene@mx2.1premio.com&gt;</td>\n",
       "      <td>Thu Aug 22 16:37:34 2002</td>\n",
       "      <td>[ILUG-Social] re: Guaranteed to lose 10-12 lbs...</td>\n",
       "    </tr>\n",
       "  </tbody>\n",
       "</table>\n",
       "</div>"
      ],
      "text/plain": [
       "               server_mail                               from_mail  \\\n",
       "0      12a1mailbot1@web.de                     12a1mailbot1@web.de   \n",
       "1      ilug-admin@linux.ie  \"Slim Down\" <taylor@s3.serveimage.com>   \n",
       "2  sabrina@mx3.1premio.com   \"Slim Down\" <sabrina@mx3.1premio.com>   \n",
       "3         wsup@playful.com     Account Services <wsup@playful.com>   \n",
       "4    social-admin@linux.ie  \"Slim n Trim\" <yenene@mx2.1premio.com>   \n",
       "\n",
       "                   datetime                                            subject  \n",
       "0  Thu Aug 22 13:17:22 2002                     Life Insurance - Why Pay More?  \n",
       "1  Thu Aug 22 13:27:39 2002  [ILUG] Guaranteed to lose 10-12 lbs in 30 days...  \n",
       "2  Thu Aug 22 14:44:07 2002  Guaranteed to lose 10-12 lbs in 30 days       ...  \n",
       "3  Thu Aug 22 16:17:00 2002  Re: Fw: User Name & Password to Membership To ...  \n",
       "4  Thu Aug 22 16:37:34 2002  [ILUG-Social] re: Guaranteed to lose 10-12 lbs...  "
      ]
     },
     "execution_count": 56,
     "metadata": {},
     "output_type": "execute_result"
    }
   ],
   "source": [
    "spm_tmp = pd.DataFrame(spam_from_and_date)\n",
    "spm_tmp.columns = [\"server_mail\", \"from_mail\", \"datetime\", \"subject\"]\n",
    "print(\"Shape → \", spm_tmp.shape)\n",
    "spm_tmp.head()"
   ]
  },
  {
   "cell_type": "code",
   "execution_count": 57,
   "metadata": {},
   "outputs": [
    {
     "name": "stdout",
     "output_type": "stream",
     "text": [
      "Shape →  (2551, 4)\n"
     ]
    },
    {
     "data": {
      "text/html": [
       "<div>\n",
       "<style scoped>\n",
       "    .dataframe tbody tr th:only-of-type {\n",
       "        vertical-align: middle;\n",
       "    }\n",
       "\n",
       "    .dataframe tbody tr th {\n",
       "        vertical-align: top;\n",
       "    }\n",
       "\n",
       "    .dataframe thead th {\n",
       "        text-align: right;\n",
       "    }\n",
       "</style>\n",
       "<table border=\"1\" class=\"dataframe\">\n",
       "  <thead>\n",
       "    <tr style=\"text-align: right;\">\n",
       "      <th></th>\n",
       "      <th>server_mail</th>\n",
       "      <th>from_mail</th>\n",
       "      <th>datetime</th>\n",
       "      <th>subject</th>\n",
       "    </tr>\n",
       "  </thead>\n",
       "  <tbody>\n",
       "    <tr>\n",
       "      <th>0</th>\n",
       "      <td>exmh-workers-admin@redhat.com</td>\n",
       "      <td>Robert Elz &lt;kre@munnari.OZ.AU&gt;</td>\n",
       "      <td>Thu Aug 22 12:36:23 2002</td>\n",
       "      <td>Re: New Sequences Window</td>\n",
       "    </tr>\n",
       "    <tr>\n",
       "      <th>1</th>\n",
       "      <td>Steve_Burt@cursor-system.com</td>\n",
       "      <td>Steve Burt &lt;steve.burt@cursor-system.com&gt;</td>\n",
       "      <td>Thu Aug 22 12:46:39 2002</td>\n",
       "      <td>[zzzzteana] RE: Alexander</td>\n",
       "    </tr>\n",
       "    <tr>\n",
       "      <th>2</th>\n",
       "      <td>timc@2ubh.com</td>\n",
       "      <td>\"Tim Chapman\" &lt;timc@2ubh.com&gt;</td>\n",
       "      <td>Thu Aug 22 13:52:59 2002</td>\n",
       "      <td>[zzzzteana] Moscow bomber</td>\n",
       "    </tr>\n",
       "    <tr>\n",
       "      <th>3</th>\n",
       "      <td>irregulars-admin@tb.tf</td>\n",
       "      <td>Monty Solomon &lt;monty@roscom.com&gt;</td>\n",
       "      <td>Thu Aug 22 14:23:39 2002</td>\n",
       "      <td>[IRR] Klez: The Virus That  Won't Die</td>\n",
       "    </tr>\n",
       "    <tr>\n",
       "      <th>4</th>\n",
       "      <td>exmh-users-admin@redhat.com</td>\n",
       "      <td>Tony Nugent &lt;tony@linuxworks.com.au&gt;</td>\n",
       "      <td>Thu Aug 22 14:44:07 2002</td>\n",
       "      <td>Re: Insert signature</td>\n",
       "    </tr>\n",
       "  </tbody>\n",
       "</table>\n",
       "</div>"
      ],
      "text/plain": [
       "                     server_mail                                  from_mail  \\\n",
       "0  exmh-workers-admin@redhat.com             Robert Elz <kre@munnari.OZ.AU>   \n",
       "1   Steve_Burt@cursor-system.com  Steve Burt <steve.burt@cursor-system.com>   \n",
       "2                  timc@2ubh.com              \"Tim Chapman\" <timc@2ubh.com>   \n",
       "3         irregulars-admin@tb.tf           Monty Solomon <monty@roscom.com>   \n",
       "4    exmh-users-admin@redhat.com       Tony Nugent <tony@linuxworks.com.au>   \n",
       "\n",
       "                   datetime                                subject  \n",
       "0  Thu Aug 22 12:36:23 2002               Re: New Sequences Window  \n",
       "1  Thu Aug 22 12:46:39 2002              [zzzzteana] RE: Alexander  \n",
       "2  Thu Aug 22 13:52:59 2002              [zzzzteana] Moscow bomber  \n",
       "3  Thu Aug 22 14:23:39 2002  [IRR] Klez: The Virus That  Won't Die  \n",
       "4  Thu Aug 22 14:44:07 2002                   Re: Insert signature  "
      ]
     },
     "execution_count": 57,
     "metadata": {},
     "output_type": "execute_result"
    }
   ],
   "source": [
    "hm_tmp = pd.DataFrame(ham_from_and_date)\n",
    "hm_tmp.columns = [\"server_mail\", \"from_mail\", \"datetime\", \"subject\"]\n",
    "print(\"Shape → \", hm_tmp.shape)\n",
    "hm_tmp.head()"
   ]
  },
  {
   "cell_type": "markdown",
   "metadata": {},
   "source": [
    "##### "
   ]
  },
  {
   "cell_type": "markdown",
   "metadata": {},
   "source": [
    "Joining messages"
   ]
  },
  {
   "cell_type": "code",
   "execution_count": 62,
   "metadata": {},
   "outputs": [],
   "source": [
    "# Now we will give them their respective classes\n",
    "\n",
    "# SPAM\n",
    "SPAM = pd.concat([spm_tmp, pd.DataFrame(spam_body, columns=[\"message\"])], axis=1)\n",
    "SPAM[\"label\"] = \"spam\""
   ]
  },
  {
   "cell_type": "code",
   "execution_count": 63,
   "metadata": {},
   "outputs": [],
   "source": [
    "# HAM\n",
    "HAM = pd.concat([hm_tmp, pd.DataFrame(ham_body, columns=[\"message\"])], axis=1)\n",
    "HAM[\"label\"] = \"ham\""
   ]
  },
  {
   "cell_type": "code",
   "execution_count": 66,
   "metadata": {},
   "outputs": [
    {
     "data": {
      "text/html": [
       "<div>\n",
       "<style scoped>\n",
       "    .dataframe tbody tr th:only-of-type {\n",
       "        vertical-align: middle;\n",
       "    }\n",
       "\n",
       "    .dataframe tbody tr th {\n",
       "        vertical-align: top;\n",
       "    }\n",
       "\n",
       "    .dataframe thead th {\n",
       "        text-align: right;\n",
       "    }\n",
       "</style>\n",
       "<table border=\"1\" class=\"dataframe\">\n",
       "  <thead>\n",
       "    <tr style=\"text-align: right;\">\n",
       "      <th></th>\n",
       "      <th>server_mail</th>\n",
       "      <th>from_mail</th>\n",
       "      <th>datetime</th>\n",
       "      <th>subject</th>\n",
       "      <th>message</th>\n",
       "      <th>label</th>\n",
       "    </tr>\n",
       "  </thead>\n",
       "  <tbody>\n",
       "    <tr>\n",
       "      <th>0</th>\n",
       "      <td>exmh-workers-admin@redhat.com</td>\n",
       "      <td>Robert Elz &lt;kre@munnari.OZ.AU&gt;</td>\n",
       "      <td>Thu Aug 22 12:36:23 2002</td>\n",
       "      <td>Re: New Sequences Window</td>\n",
       "      <td>Date:        Wed, 21 Aug 2002 10:54:46 -05...</td>\n",
       "      <td>ham</td>\n",
       "    </tr>\n",
       "    <tr>\n",
       "      <th>1</th>\n",
       "      <td>Steve_Burt@cursor-system.com</td>\n",
       "      <td>Steve Burt &lt;steve.burt@cursor-system.com&gt;</td>\n",
       "      <td>Thu Aug 22 12:46:39 2002</td>\n",
       "      <td>[zzzzteana] RE: Alexander</td>\n",
       "      <td>Martin A posted:\\nTassos Papadopoulos, the Gre...</td>\n",
       "      <td>ham</td>\n",
       "    </tr>\n",
       "    <tr>\n",
       "      <th>2</th>\n",
       "      <td>timc@2ubh.com</td>\n",
       "      <td>\"Tim Chapman\" &lt;timc@2ubh.com&gt;</td>\n",
       "      <td>Thu Aug 22 13:52:59 2002</td>\n",
       "      <td>[zzzzteana] Moscow bomber</td>\n",
       "      <td>Man Threatens Explosion In Moscow \\n\\nThursday...</td>\n",
       "      <td>ham</td>\n",
       "    </tr>\n",
       "    <tr>\n",
       "      <th>3</th>\n",
       "      <td>irregulars-admin@tb.tf</td>\n",
       "      <td>Monty Solomon &lt;monty@roscom.com&gt;</td>\n",
       "      <td>Thu Aug 22 14:23:39 2002</td>\n",
       "      <td>[IRR] Klez: The Virus That  Won't Die</td>\n",
       "      <td>Klez: The Virus That Won't Die\\n \\nAlready the...</td>\n",
       "      <td>ham</td>\n",
       "    </tr>\n",
       "    <tr>\n",
       "      <th>4</th>\n",
       "      <td>exmh-users-admin@redhat.com</td>\n",
       "      <td>Tony Nugent &lt;tony@linuxworks.com.au&gt;</td>\n",
       "      <td>Thu Aug 22 14:44:07 2002</td>\n",
       "      <td>Re: Insert signature</td>\n",
       "      <td>On Wed Aug 21 2002 at 15:46, Ulises Ponce wrot...</td>\n",
       "      <td>ham</td>\n",
       "    </tr>\n",
       "    <tr>\n",
       "      <th>...</th>\n",
       "      <td>...</td>\n",
       "      <td>...</td>\n",
       "      <td>...</td>\n",
       "      <td>...</td>\n",
       "      <td>...</td>\n",
       "      <td>...</td>\n",
       "    </tr>\n",
       "    <tr>\n",
       "      <th>495</th>\n",
       "      <td>biz2biz2446@Flashmail.com</td>\n",
       "      <td>biz2biz2446@Flashmail.com</td>\n",
       "      <td>Mon Oct  7 22:42:04 2002</td>\n",
       "      <td>See your Company sales sky rocket.            ...</td>\n",
       "      <td>There is NO stumbling on to it! \\n\\nThe greate...</td>\n",
       "      <td>spam</td>\n",
       "    </tr>\n",
       "    <tr>\n",
       "      <th>496</th>\n",
       "      <td>cna@insiq.us</td>\n",
       "      <td>\"IQ - CNA\" &lt;cna@insiq.us&gt;</td>\n",
       "      <td>Tue Oct  8 00:10:39 2002</td>\n",
       "      <td>Hit the Road with CNA</td>\n",
       "      <td>This is a multi-part message in MIME format.\\n...</td>\n",
       "      <td>spam</td>\n",
       "    </tr>\n",
       "    <tr>\n",
       "      <th>497</th>\n",
       "      <td>bounce2@u-answer.com</td>\n",
       "      <td>Answer.Us@davicom.co.kr</td>\n",
       "      <td>Tue Oct  8 11:02:30 2002</td>\n",
       "      <td>$10 a hour for watching e-mmercials! No joke!</td>\n",
       "      <td>&lt;html&gt;\\n\\n&lt;head&gt;\\n&lt;meta http-equiv=\"Content-La...</td>\n",
       "      <td>spam</td>\n",
       "    </tr>\n",
       "    <tr>\n",
       "      <th>498</th>\n",
       "      <td>beautyinfufuxxxmeb13mxy@aol.com</td>\n",
       "      <td>beautyinfufuxxxmeb13mxy@aol.com</td>\n",
       "      <td>Tue Oct  8 11:02:32 2002</td>\n",
       "      <td>Make a Fortune On eBay                        ...</td>\n",
       "      <td>&lt;HTML&gt;\\n&lt;BODY&gt;\\n  &lt;tr valign=3D\"top\"&gt; \\n    &lt;t...</td>\n",
       "      <td>spam</td>\n",
       "    </tr>\n",
       "    <tr>\n",
       "      <th>499</th>\n",
       "      <td>evtwqmigru@datcon.co.uk</td>\n",
       "      <td>\"About Time\" &lt;evtwqmigru@datcon.co.uk&gt;</td>\n",
       "      <td>Tue Oct  8 11:02:37 2002</td>\n",
       "      <td>Faeries</td>\n",
       "      <td>UNCOMMON EXOTIC PLEASURE BOTANICALS!\\n\\nFeelin...</td>\n",
       "      <td>spam</td>\n",
       "    </tr>\n",
       "  </tbody>\n",
       "</table>\n",
       "<p>3051 rows × 6 columns</p>\n",
       "</div>"
      ],
      "text/plain": [
       "                         server_mail  \\\n",
       "0      exmh-workers-admin@redhat.com   \n",
       "1       Steve_Burt@cursor-system.com   \n",
       "2                      timc@2ubh.com   \n",
       "3             irregulars-admin@tb.tf   \n",
       "4        exmh-users-admin@redhat.com   \n",
       "..                               ...   \n",
       "495        biz2biz2446@Flashmail.com   \n",
       "496                     cna@insiq.us   \n",
       "497             bounce2@u-answer.com   \n",
       "498  beautyinfufuxxxmeb13mxy@aol.com   \n",
       "499          evtwqmigru@datcon.co.uk   \n",
       "\n",
       "                                     from_mail                  datetime  \\\n",
       "0               Robert Elz <kre@munnari.OZ.AU>  Thu Aug 22 12:36:23 2002   \n",
       "1    Steve Burt <steve.burt@cursor-system.com>  Thu Aug 22 12:46:39 2002   \n",
       "2                \"Tim Chapman\" <timc@2ubh.com>  Thu Aug 22 13:52:59 2002   \n",
       "3             Monty Solomon <monty@roscom.com>  Thu Aug 22 14:23:39 2002   \n",
       "4         Tony Nugent <tony@linuxworks.com.au>  Thu Aug 22 14:44:07 2002   \n",
       "..                                         ...                       ...   \n",
       "495                  biz2biz2446@Flashmail.com  Mon Oct  7 22:42:04 2002   \n",
       "496                  \"IQ - CNA\" <cna@insiq.us>  Tue Oct  8 00:10:39 2002   \n",
       "497                    Answer.Us@davicom.co.kr  Tue Oct  8 11:02:30 2002   \n",
       "498            beautyinfufuxxxmeb13mxy@aol.com  Tue Oct  8 11:02:32 2002   \n",
       "499     \"About Time\" <evtwqmigru@datcon.co.uk>  Tue Oct  8 11:02:37 2002   \n",
       "\n",
       "                                               subject  \\\n",
       "0                             Re: New Sequences Window   \n",
       "1                            [zzzzteana] RE: Alexander   \n",
       "2                            [zzzzteana] Moscow bomber   \n",
       "3                [IRR] Klez: The Virus That  Won't Die   \n",
       "4                                 Re: Insert signature   \n",
       "..                                                 ...   \n",
       "495  See your Company sales sky rocket.            ...   \n",
       "496                              Hit the Road with CNA   \n",
       "497      $10 a hour for watching e-mmercials! No joke!   \n",
       "498  Make a Fortune On eBay                        ...   \n",
       "499                                            Faeries   \n",
       "\n",
       "                                               message label  \n",
       "0        Date:        Wed, 21 Aug 2002 10:54:46 -05...   ham  \n",
       "1    Martin A posted:\\nTassos Papadopoulos, the Gre...   ham  \n",
       "2    Man Threatens Explosion In Moscow \\n\\nThursday...   ham  \n",
       "3    Klez: The Virus That Won't Die\\n \\nAlready the...   ham  \n",
       "4    On Wed Aug 21 2002 at 15:46, Ulises Ponce wrot...   ham  \n",
       "..                                                 ...   ...  \n",
       "495  There is NO stumbling on to it! \\n\\nThe greate...  spam  \n",
       "496  This is a multi-part message in MIME format.\\n...  spam  \n",
       "497  <html>\\n\\n<head>\\n<meta http-equiv=\"Content-La...  spam  \n",
       "498  <HTML>\\n<BODY>\\n  <tr valign=3D\"top\"> \\n    <t...  spam  \n",
       "499  UNCOMMON EXOTIC PLEASURE BOTANICALS!\\n\\nFeelin...  spam  \n",
       "\n",
       "[3051 rows x 6 columns]"
      ]
     },
     "execution_count": 66,
     "metadata": {},
     "output_type": "execute_result"
    }
   ],
   "source": [
    "# Final - partially usable format\n",
    "\n",
    "df = pd.concat([HAM, SPAM])\n",
    "df"
   ]
  },
  {
   "cell_type": "code",
   "execution_count": 67,
   "metadata": {},
   "outputs": [],
   "source": [
    "# Removing non used variables\n",
    "del spam_body, spam_from_and_date, spm_tmp, ham_body, ham_from_and_date, hm_tmp"
   ]
  },
  {
   "cell_type": "code",
   "execution_count": 68,
   "metadata": {},
   "outputs": [],
   "source": [
    "# DON'T RUN THIS \n",
    "df.to_csv(\"1st_simple.csv\")\n",
    "# DON'T RUN THIS"
   ]
  },
  {
   "cell_type": "code",
   "execution_count": 139,
   "metadata": {},
   "outputs": [],
   "source": [
    "df = df.reset_index(drop=True)"
   ]
  },
  {
   "cell_type": "code",
   "execution_count": 106,
   "metadata": {},
   "outputs": [],
   "source": [
    "# DONT'T RUN THIS\n",
    "df.from_mail.to_csv(\"from_mail\", index=False)\n",
    "# DONT'T RUN THIS"
   ]
  },
  {
   "cell_type": "markdown",
   "metadata": {},
   "source": [
    "# "
   ]
  },
  {
   "cell_type": "markdown",
   "metadata": {},
   "source": [
    "#### Now we have our clean dataframe.\n",
    "*But still we can't directly make our analysis. We still have to clear up the `from_mail` column and convert the `datetime` column in its actual datatype and couple of other tweaks as well.*"
   ]
  },
  {
   "cell_type": "markdown",
   "metadata": {},
   "source": [
    "###### "
   ]
  },
  {
   "cell_type": "markdown",
   "metadata": {},
   "source": [
    "\n",
    "**`1.` Cleaning up the Emails**"
   ]
  },
  {
   "cell_type": "code",
   "execution_count": 102,
   "metadata": {},
   "outputs": [],
   "source": [
    "idx = df.server_mail.str.contains(\"^[a-zA-Z0-9+_*?/&=.-]+@[a-zA-Z0-9.-]+$\", flags=re.I)"
   ]
  },
  {
   "cell_type": "code",
   "execution_count": 104,
   "metadata": {},
   "outputs": [
    {
     "data": {
      "text/plain": [
       "array([], dtype=object)"
      ]
     },
     "execution_count": 104,
     "metadata": {},
     "output_type": "execute_result"
    }
   ],
   "source": [
    "df[idx == False].server_mail.values"
   ]
  },
  {
   "cell_type": "code",
   "execution_count": 116,
   "metadata": {},
   "outputs": [],
   "source": [
    "df[\"server_mail\"] = df.server_mail.str.extract(\"^([a-zA-Z0-9+_*?/&=.-]+@[a-zA-Z0-9.-]+)$\", flags=re.I)[0].str.strip()"
   ]
  },
  {
   "cell_type": "markdown",
   "metadata": {},
   "source": [
    "###### "
   ]
  },
  {
   "cell_type": "markdown",
   "metadata": {},
   "source": [
    "We have all valid `server emails`."
   ]
  },
  {
   "cell_type": "code",
   "execution_count": 107,
   "metadata": {},
   "outputs": [
    {
     "data": {
      "text/plain": [
       "array(['¦n®ø®§@dogma.slashnull.org, §A¤£¬Ý·|«á®¬@dogma.slashnull.org'],\n",
       "      dtype=object)"
      ]
     },
     "execution_count": 107,
     "metadata": {},
     "output_type": "execute_result"
    }
   ],
   "source": [
    "idx = df.from_mail.str.contains(\"[a-zA-Z0-9+_=*.-]+@[a-zA-Z0-9.-]+\", flags=re.I)\n",
    "df[idx == False].from_mail.values"
   ]
  },
  {
   "cell_type": "markdown",
   "metadata": {},
   "source": [
    "We have one buddy... but okay let's extract the proper emails."
   ]
  },
  {
   "cell_type": "code",
   "execution_count": 120,
   "metadata": {},
   "outputs": [],
   "source": [
    "df[\"from_mail\"] = df.from_mail.str.extract(\"([a-zA-Z0-9+_=*.-]+@[a-zA-Z0-9.-]+)\", flags=re.I)[0]"
   ]
  },
  {
   "cell_type": "markdown",
   "metadata": {},
   "source": [
    "And also, just a little clean up..."
   ]
  },
  {
   "cell_type": "code",
   "execution_count": 123,
   "metadata": {},
   "outputs": [],
   "source": [
    "df[\"server_mail\"] = df[\"server_mail\"].str.lower()"
   ]
  },
  {
   "cell_type": "code",
   "execution_count": 125,
   "metadata": {},
   "outputs": [],
   "source": [
    "df[\"from_mail\"] = df[\"from_mail\"].str.lower()"
   ]
  },
  {
   "cell_type": "code",
   "execution_count": 141,
   "metadata": {},
   "outputs": [
    {
     "data": {
      "text/plain": [
       "<AxesSubplot:>"
      ]
     },
     "execution_count": 141,
     "metadata": {},
     "output_type": "execute_result"
    },
    {
     "data": {
      "image/png": "[encoded data removed]",
      "text/plain": [
       "<Figure size 432x288 with 2 Axes>"
      ]
     },
     "metadata": {
      "needs_background": "light"
     },
     "output_type": "display_data"
    }
   ],
   "source": [
    "sns.heatmap(df[[\"server_mail\", \"from_mail\"]].isna())"
   ]
  },
  {
   "cell_type": "markdown",
   "metadata": {},
   "source": [
    "There are some `NaN` values in the servermail column, which we were unable to find from the message. So that is fine. And from mail looks clean. "
   ]
  },
  {
   "cell_type": "markdown",
   "metadata": {},
   "source": [
    "#### Done!"
   ]
  },
  {
   "cell_type": "markdown",
   "metadata": {},
   "source": [
    "###### "
   ]
  },
  {
   "cell_type": "markdown",
   "metadata": {},
   "source": [
    "**`2.` Cleaning dates and setting proper datatype**"
   ]
  },
  {
   "cell_type": "code",
   "execution_count": 200,
   "metadata": {},
   "outputs": [],
   "source": [
    "dates = pd.to_datetime(df.datetime, format=\"%a %b %d %H:%M:%S %Y\")"
   ]
  },
  {
   "cell_type": "code",
   "execution_count": 202,
   "metadata": {},
   "outputs": [],
   "source": [
    "df.datetime = dates"
   ]
  },
  {
   "cell_type": "code",
   "execution_count": 204,
   "metadata": {},
   "outputs": [
    {
     "data": {
      "text/html": [
       "<div>\n",
       "<style scoped>\n",
       "    .dataframe tbody tr th:only-of-type {\n",
       "        vertical-align: middle;\n",
       "    }\n",
       "\n",
       "    .dataframe tbody tr th {\n",
       "        vertical-align: top;\n",
       "    }\n",
       "\n",
       "    .dataframe thead th {\n",
       "        text-align: right;\n",
       "    }\n",
       "</style>\n",
       "<table border=\"1\" class=\"dataframe\">\n",
       "  <thead>\n",
       "    <tr style=\"text-align: right;\">\n",
       "      <th></th>\n",
       "      <th>server_mail</th>\n",
       "      <th>from_mail</th>\n",
       "      <th>datetime</th>\n",
       "      <th>subject</th>\n",
       "      <th>message</th>\n",
       "      <th>label</th>\n",
       "    </tr>\n",
       "  </thead>\n",
       "  <tbody>\n",
       "    <tr>\n",
       "      <th>0</th>\n",
       "      <td>exmh-workers-admin@redhat.com</td>\n",
       "      <td>kre@munnari.oz.au</td>\n",
       "      <td>2002-08-22 12:36:23</td>\n",
       "      <td>Re: New Sequences Window</td>\n",
       "      <td>Date:        Wed, 21 Aug 2002 10:54:46 -05...</td>\n",
       "      <td>ham</td>\n",
       "    </tr>\n",
       "    <tr>\n",
       "      <th>1</th>\n",
       "      <td>steve_burt@cursor-system.com</td>\n",
       "      <td>steve.burt@cursor-system.com</td>\n",
       "      <td>2002-08-22 12:46:39</td>\n",
       "      <td>[zzzzteana] RE: Alexander</td>\n",
       "      <td>Martin A posted:\\nTassos Papadopoulos, the Gre...</td>\n",
       "      <td>ham</td>\n",
       "    </tr>\n",
       "    <tr>\n",
       "      <th>2</th>\n",
       "      <td>timc@2ubh.com</td>\n",
       "      <td>timc@2ubh.com</td>\n",
       "      <td>2002-08-22 13:52:59</td>\n",
       "      <td>[zzzzteana] Moscow bomber</td>\n",
       "      <td>Man Threatens Explosion In Moscow \\n\\nThursday...</td>\n",
       "      <td>ham</td>\n",
       "    </tr>\n",
       "    <tr>\n",
       "      <th>3</th>\n",
       "      <td>irregulars-admin@tb.tf</td>\n",
       "      <td>monty@roscom.com</td>\n",
       "      <td>2002-08-22 14:23:39</td>\n",
       "      <td>[IRR] Klez: The Virus That  Won't Die</td>\n",
       "      <td>Klez: The Virus That Won't Die\\n \\nAlready the...</td>\n",
       "      <td>ham</td>\n",
       "    </tr>\n",
       "    <tr>\n",
       "      <th>4</th>\n",
       "      <td>exmh-users-admin@redhat.com</td>\n",
       "      <td>tony@linuxworks.com.au</td>\n",
       "      <td>2002-08-22 14:44:07</td>\n",
       "      <td>Re: Insert signature</td>\n",
       "      <td>On Wed Aug 21 2002 at 15:46, Ulises Ponce wrot...</td>\n",
       "      <td>ham</td>\n",
       "    </tr>\n",
       "  </tbody>\n",
       "</table>\n",
       "</div>"
      ],
      "text/plain": [
       "                     server_mail                     from_mail  \\\n",
       "0  exmh-workers-admin@redhat.com             kre@munnari.oz.au   \n",
       "1   steve_burt@cursor-system.com  steve.burt@cursor-system.com   \n",
       "2                  timc@2ubh.com                 timc@2ubh.com   \n",
       "3         irregulars-admin@tb.tf              monty@roscom.com   \n",
       "4    exmh-users-admin@redhat.com        tony@linuxworks.com.au   \n",
       "\n",
       "             datetime                                subject  \\\n",
       "0 2002-08-22 12:36:23               Re: New Sequences Window   \n",
       "1 2002-08-22 12:46:39              [zzzzteana] RE: Alexander   \n",
       "2 2002-08-22 13:52:59              [zzzzteana] Moscow bomber   \n",
       "3 2002-08-22 14:23:39  [IRR] Klez: The Virus That  Won't Die   \n",
       "4 2002-08-22 14:44:07                   Re: Insert signature   \n",
       "\n",
       "                                             message label  \n",
       "0      Date:        Wed, 21 Aug 2002 10:54:46 -05...   ham  \n",
       "1  Martin A posted:\\nTassos Papadopoulos, the Gre...   ham  \n",
       "2  Man Threatens Explosion In Moscow \\n\\nThursday...   ham  \n",
       "3  Klez: The Virus That Won't Die\\n \\nAlready the...   ham  \n",
       "4  On Wed Aug 21 2002 at 15:46, Ulises Ponce wrot...   ham  "
      ]
     },
     "execution_count": 204,
     "metadata": {},
     "output_type": "execute_result"
    }
   ],
   "source": [
    "df.head()"
   ]
  },
  {
   "cell_type": "markdown",
   "metadata": {},
   "source": [
    "#### Done!"
   ]
  },
  {
   "cell_type": "markdown",
   "metadata": {},
   "source": [
    "###### "
   ]
  },
  {
   "cell_type": "markdown",
   "metadata": {},
   "source": [
    "**`3.` Cleaning subject and making it *just* subject**"
   ]
  },
  {
   "cell_type": "code",
   "execution_count": 227,
   "metadata": {},
   "outputs": [],
   "source": [
    "df.subject = df.subject.str.strip().str.replace(\"([\\n]|(\\s+))\", \" \")"
   ]
  },
  {
   "cell_type": "code",
   "execution_count": 243,
   "metadata": {},
   "outputs": [],
   "source": [
    "df.subject = df.subject.str.replace(\"(Re:|\\[.*\\])\", \" \", flags=re.I | re.M)"
   ]
  },
  {
   "cell_type": "code",
   "execution_count": 245,
   "metadata": {},
   "outputs": [
    {
     "data": {
      "text/html": [
       "<div>\n",
       "<style scoped>\n",
       "    .dataframe tbody tr th:only-of-type {\n",
       "        vertical-align: middle;\n",
       "    }\n",
       "\n",
       "    .dataframe tbody tr th {\n",
       "        vertical-align: top;\n",
       "    }\n",
       "\n",
       "    .dataframe thead th {\n",
       "        text-align: right;\n",
       "    }\n",
       "</style>\n",
       "<table border=\"1\" class=\"dataframe\">\n",
       "  <thead>\n",
       "    <tr style=\"text-align: right;\">\n",
       "      <th></th>\n",
       "      <th>server_mail</th>\n",
       "      <th>from_mail</th>\n",
       "      <th>datetime</th>\n",
       "      <th>subject</th>\n",
       "      <th>message</th>\n",
       "      <th>label</th>\n",
       "    </tr>\n",
       "  </thead>\n",
       "  <tbody>\n",
       "    <tr>\n",
       "      <th>0</th>\n",
       "      <td>exmh-workers-admin@redhat.com</td>\n",
       "      <td>kre@munnari.oz.au</td>\n",
       "      <td>2002-08-22 12:36:23</td>\n",
       "      <td>New Sequences Window</td>\n",
       "      <td>Date:        Wed, 21 Aug 2002 10:54:46 -05...</td>\n",
       "      <td>ham</td>\n",
       "    </tr>\n",
       "    <tr>\n",
       "      <th>1</th>\n",
       "      <td>steve_burt@cursor-system.com</td>\n",
       "      <td>steve.burt@cursor-system.com</td>\n",
       "      <td>2002-08-22 12:46:39</td>\n",
       "      <td>Alexander</td>\n",
       "      <td>Martin A posted:\\nTassos Papadopoulos, the Gre...</td>\n",
       "      <td>ham</td>\n",
       "    </tr>\n",
       "    <tr>\n",
       "      <th>2</th>\n",
       "      <td>timc@2ubh.com</td>\n",
       "      <td>timc@2ubh.com</td>\n",
       "      <td>2002-08-22 13:52:59</td>\n",
       "      <td>Moscow bomber</td>\n",
       "      <td>Man Threatens Explosion In Moscow \\n\\nThursday...</td>\n",
       "      <td>ham</td>\n",
       "    </tr>\n",
       "    <tr>\n",
       "      <th>3</th>\n",
       "      <td>irregulars-admin@tb.tf</td>\n",
       "      <td>monty@roscom.com</td>\n",
       "      <td>2002-08-22 14:23:39</td>\n",
       "      <td>Klez: The Virus That Won't Die</td>\n",
       "      <td>Klez: The Virus That Won't Die\\n \\nAlready the...</td>\n",
       "      <td>ham</td>\n",
       "    </tr>\n",
       "    <tr>\n",
       "      <th>4</th>\n",
       "      <td>exmh-users-admin@redhat.com</td>\n",
       "      <td>tony@linuxworks.com.au</td>\n",
       "      <td>2002-08-22 14:44:07</td>\n",
       "      <td>Insert signature</td>\n",
       "      <td>On Wed Aug 21 2002 at 15:46, Ulises Ponce wrot...</td>\n",
       "      <td>ham</td>\n",
       "    </tr>\n",
       "  </tbody>\n",
       "</table>\n",
       "</div>"
      ],
      "text/plain": [
       "                     server_mail                     from_mail  \\\n",
       "0  exmh-workers-admin@redhat.com             kre@munnari.oz.au   \n",
       "1   steve_burt@cursor-system.com  steve.burt@cursor-system.com   \n",
       "2                  timc@2ubh.com                 timc@2ubh.com   \n",
       "3         irregulars-admin@tb.tf              monty@roscom.com   \n",
       "4    exmh-users-admin@redhat.com        tony@linuxworks.com.au   \n",
       "\n",
       "             datetime                           subject  \\\n",
       "0 2002-08-22 12:36:23              New Sequences Window   \n",
       "1 2002-08-22 12:46:39                         Alexander   \n",
       "2 2002-08-22 13:52:59                     Moscow bomber   \n",
       "3 2002-08-22 14:23:39    Klez: The Virus That Won't Die   \n",
       "4 2002-08-22 14:44:07                  Insert signature   \n",
       "\n",
       "                                             message label  \n",
       "0      Date:        Wed, 21 Aug 2002 10:54:46 -05...   ham  \n",
       "1  Martin A posted:\\nTassos Papadopoulos, the Gre...   ham  \n",
       "2  Man Threatens Explosion In Moscow \\n\\nThursday...   ham  \n",
       "3  Klez: The Virus That Won't Die\\n \\nAlready the...   ham  \n",
       "4  On Wed Aug 21 2002 at 15:46, Ulises Ponce wrot...   ham  "
      ]
     },
     "execution_count": 245,
     "metadata": {},
     "output_type": "execute_result"
    }
   ],
   "source": [
    "df.head()"
   ]
  },
  {
   "cell_type": "markdown",
   "metadata": {},
   "source": [
    "#### Done!"
   ]
  },
  {
   "cell_type": "markdown",
   "metadata": {},
   "source": [
    "###### "
   ]
  },
  {
   "cell_type": "markdown",
   "metadata": {},
   "source": [
    "**`4.` Cleaning message and making it *just* message**\n",
    "\n",
    "The reason behind doing this is that, in many messages we have the `<html>` tags. Which will add no value to our message's being spam or ham. So it is better to remove it."
   ]
  },
  {
   "cell_type": "code",
   "execution_count": 257,
   "metadata": {},
   "outputs": [],
   "source": [
    "df.message = df.message.str.strip()\n",
    "# Removes extra spaces and new lines and adds \" \" (1st time)\n",
    "df.message = df.message.str.replace(\"([\\n]|(\\s+))\", \" \")\n",
    "# Removes html tags and adds \"\"\n",
    "df.message = df.message.str.replace(\"(<(.|\\n)*?>|(&nbsp;|&quot;))\", \"\", flags=re.I)\n",
    "# Removes extra spaces and new lines and adds \" \" (2nd time)\n",
    "df.message = df.message.str.replace(\"([\\n]|(\\s+))\", \" \")"
   ]
  },
  {
   "cell_type": "markdown",
   "metadata": {},
   "source": [
    "Mostly, our message data is cleaned now. So... let's declare it ↓"
   ]
  },
  {
   "cell_type": "markdown",
   "metadata": {},
   "source": [
    "#### Done!"
   ]
  },
  {
   "cell_type": "markdown",
   "metadata": {},
   "source": [
    "# "
   ]
  },
  {
   "cell_type": "markdown",
   "metadata": {},
   "source": [
    "Finally our DataFrame Looks like this "
   ]
  },
  {
   "cell_type": "code",
   "execution_count": 266,
   "metadata": {
    "jupyter": {
     "source_hidden": true
    }
   },
   "outputs": [
    {
     "data": {
      "text/html": [
       "<div>\n",
       "<style scoped>\n",
       "    .dataframe tbody tr th:only-of-type {\n",
       "        vertical-align: middle;\n",
       "    }\n",
       "\n",
       "    .dataframe tbody tr th {\n",
       "        vertical-align: top;\n",
       "    }\n",
       "\n",
       "    .dataframe thead th {\n",
       "        text-align: right;\n",
       "    }\n",
       "</style>\n",
       "<table border=\"1\" class=\"dataframe\">\n",
       "  <thead>\n",
       "    <tr style=\"text-align: right;\">\n",
       "      <th></th>\n",
       "      <th>server_mail</th>\n",
       "      <th>from_mail</th>\n",
       "      <th>datetime</th>\n",
       "      <th>subject</th>\n",
       "      <th>message</th>\n",
       "      <th>label</th>\n",
       "    </tr>\n",
       "  </thead>\n",
       "  <tbody>\n",
       "    <tr>\n",
       "      <th>0</th>\n",
       "      <td>exmh-workers-admin@redhat.com</td>\n",
       "      <td>kre@munnari.oz.au</td>\n",
       "      <td>2002-08-22 12:36:23</td>\n",
       "      <td>New Sequences Window</td>\n",
       "      <td>Date: Wed, 21 Aug 2002 10:54:46 -0500 From: Ch...</td>\n",
       "      <td>ham</td>\n",
       "    </tr>\n",
       "    <tr>\n",
       "      <th>1</th>\n",
       "      <td>steve_burt@cursor-system.com</td>\n",
       "      <td>steve.burt@cursor-system.com</td>\n",
       "      <td>2002-08-22 12:46:39</td>\n",
       "      <td>Alexander</td>\n",
       "      <td>Martin A posted: Tassos Papadopoulos, the Gree...</td>\n",
       "      <td>ham</td>\n",
       "    </tr>\n",
       "    <tr>\n",
       "      <th>2</th>\n",
       "      <td>timc@2ubh.com</td>\n",
       "      <td>timc@2ubh.com</td>\n",
       "      <td>2002-08-22 13:52:59</td>\n",
       "      <td>Moscow bomber</td>\n",
       "      <td>Man Threatens Explosion In Moscow Thursday Aug...</td>\n",
       "      <td>ham</td>\n",
       "    </tr>\n",
       "    <tr>\n",
       "      <th>3</th>\n",
       "      <td>irregulars-admin@tb.tf</td>\n",
       "      <td>monty@roscom.com</td>\n",
       "      <td>2002-08-22 14:23:39</td>\n",
       "      <td>Klez: The Virus That Won't Die</td>\n",
       "      <td>Klez: The Virus That Won't Die Already the mos...</td>\n",
       "      <td>ham</td>\n",
       "    </tr>\n",
       "    <tr>\n",
       "      <th>4</th>\n",
       "      <td>exmh-users-admin@redhat.com</td>\n",
       "      <td>tony@linuxworks.com.au</td>\n",
       "      <td>2002-08-22 14:44:07</td>\n",
       "      <td>Insert signature</td>\n",
       "      <td>On Wed Aug 21 2002 at 15:46, Ulises Ponce wrot...</td>\n",
       "      <td>ham</td>\n",
       "    </tr>\n",
       "    <tr>\n",
       "      <th>...</th>\n",
       "      <td>...</td>\n",
       "      <td>...</td>\n",
       "      <td>...</td>\n",
       "      <td>...</td>\n",
       "      <td>...</td>\n",
       "      <td>...</td>\n",
       "    </tr>\n",
       "    <tr>\n",
       "      <th>3046</th>\n",
       "      <td>biz2biz2446@flashmail.com</td>\n",
       "      <td>biz2biz2446@flashmail.com</td>\n",
       "      <td>2002-10-07 22:42:04</td>\n",
       "      <td>See your Company sales sky rocket. 4611</td>\n",
       "      <td>There is NO stumbling on to it! The greatest w...</td>\n",
       "      <td>spam</td>\n",
       "    </tr>\n",
       "    <tr>\n",
       "      <th>3047</th>\n",
       "      <td>cna@insiq.us</td>\n",
       "      <td>cna@insiq.us</td>\n",
       "      <td>2002-10-08 00:10:39</td>\n",
       "      <td>Hit the Road with CNA</td>\n",
       "      <td>This is a multi-part message in MIME format. -...</td>\n",
       "      <td>spam</td>\n",
       "    </tr>\n",
       "    <tr>\n",
       "      <th>3048</th>\n",
       "      <td>bounce2@u-answer.com</td>\n",
       "      <td>answer.us@davicom.co.kr</td>\n",
       "      <td>2002-10-08 11:02:30</td>\n",
       "      <td>$10 a hour for watching e-mmercials! No joke!</td>\n",
       "      <td>Answer-Us Unlist Information This message is ...</td>\n",
       "      <td>spam</td>\n",
       "    </tr>\n",
       "    <tr>\n",
       "      <th>3049</th>\n",
       "      <td>beautyinfufuxxxmeb13mxy@aol.com</td>\n",
       "      <td>beautyinfufuxxxmeb13mxy@aol.com</td>\n",
       "      <td>2002-10-08 11:02:32</td>\n",
       "      <td>Make a Fortune On eBay 24772</td>\n",
       "      <td>eBay - #1 Rated Work A= t Home Business Oppor...</td>\n",
       "      <td>spam</td>\n",
       "    </tr>\n",
       "    <tr>\n",
       "      <th>3050</th>\n",
       "      <td>evtwqmigru@datcon.co.uk</td>\n",
       "      <td>evtwqmigru@datcon.co.uk</td>\n",
       "      <td>2002-10-08 11:02:37</td>\n",
       "      <td>Faeries</td>\n",
       "      <td>UNCOMMON EXOTIC PLEASURE BOTANICALS! Feeling m...</td>\n",
       "      <td>spam</td>\n",
       "    </tr>\n",
       "  </tbody>\n",
       "</table>\n",
       "<p>3051 rows × 6 columns</p>\n",
       "</div>"
      ],
      "text/plain": [
       "                          server_mail                        from_mail  \\\n",
       "0       exmh-workers-admin@redhat.com                kre@munnari.oz.au   \n",
       "1        steve_burt@cursor-system.com     steve.burt@cursor-system.com   \n",
       "2                       timc@2ubh.com                    timc@2ubh.com   \n",
       "3              irregulars-admin@tb.tf                 monty@roscom.com   \n",
       "4         exmh-users-admin@redhat.com           tony@linuxworks.com.au   \n",
       "...                               ...                              ...   \n",
       "3046        biz2biz2446@flashmail.com        biz2biz2446@flashmail.com   \n",
       "3047                     cna@insiq.us                     cna@insiq.us   \n",
       "3048             bounce2@u-answer.com          answer.us@davicom.co.kr   \n",
       "3049  beautyinfufuxxxmeb13mxy@aol.com  beautyinfufuxxxmeb13mxy@aol.com   \n",
       "3050          evtwqmigru@datcon.co.uk          evtwqmigru@datcon.co.uk   \n",
       "\n",
       "                datetime                                        subject  \\\n",
       "0    2002-08-22 12:36:23                           New Sequences Window   \n",
       "1    2002-08-22 12:46:39                                      Alexander   \n",
       "2    2002-08-22 13:52:59                                  Moscow bomber   \n",
       "3    2002-08-22 14:23:39                 Klez: The Virus That Won't Die   \n",
       "4    2002-08-22 14:44:07                               Insert signature   \n",
       "...                  ...                                            ...   \n",
       "3046 2002-10-07 22:42:04        See your Company sales sky rocket. 4611   \n",
       "3047 2002-10-08 00:10:39                          Hit the Road with CNA   \n",
       "3048 2002-10-08 11:02:30  $10 a hour for watching e-mmercials! No joke!   \n",
       "3049 2002-10-08 11:02:32                   Make a Fortune On eBay 24772   \n",
       "3050 2002-10-08 11:02:37                                        Faeries   \n",
       "\n",
       "                                                message label  \n",
       "0     Date: Wed, 21 Aug 2002 10:54:46 -0500 From: Ch...   ham  \n",
       "1     Martin A posted: Tassos Papadopoulos, the Gree...   ham  \n",
       "2     Man Threatens Explosion In Moscow Thursday Aug...   ham  \n",
       "3     Klez: The Virus That Won't Die Already the mos...   ham  \n",
       "4     On Wed Aug 21 2002 at 15:46, Ulises Ponce wrot...   ham  \n",
       "...                                                 ...   ...  \n",
       "3046  There is NO stumbling on to it! The greatest w...  spam  \n",
       "3047  This is a multi-part message in MIME format. -...  spam  \n",
       "3048   Answer-Us Unlist Information This message is ...  spam  \n",
       "3049   eBay - #1 Rated Work A= t Home Business Oppor...  spam  \n",
       "3050  UNCOMMON EXOTIC PLEASURE BOTANICALS! Feeling m...  spam  \n",
       "\n",
       "[3051 rows x 6 columns]"
      ]
     },
     "execution_count": 266,
     "metadata": {},
     "output_type": "execute_result"
    }
   ],
   "source": [
    "df"
   ]
  },
  {
   "cell_type": "markdown",
   "metadata": {},
   "source": [
    "How clean and usable!"
   ]
  },
  {
   "cell_type": "code",
   "execution_count": 268,
   "metadata": {},
   "outputs": [],
   "source": [
    "# DON'T RUN THIS\n",
    "df.to_csv(\"dataframe_final.csv\", index=False)\n",
    "# DON'T RUN THIS"
   ]
  },
  {
   "cell_type": "markdown",
   "metadata": {},
   "source": [
    "# "
   ]
  },
  {
   "cell_type": "markdown",
   "metadata": {},
   "source": [
    "> <b><font face=\"neuville\" style=\"font-size:100px\">EDA</font></b>"
   ]
  },
  {
   "cell_type": "markdown",
   "metadata": {},
   "source": [
    "# "
   ]
  },
  {
   "cell_type": "code",
   "execution_count": 2,
   "metadata": {},
   "outputs": [],
   "source": [
    "df = pd.read_csv(\"./dataframe_final.csv\", parse_dates=[\"datetime\"])"
   ]
  },
  {
   "cell_type": "markdown",
   "metadata": {},
   "source": [
    "### `Q1.` From which domain name we usually get the email?"
   ]
  },
  {
   "cell_type": "code",
   "execution_count": 3,
   "metadata": {},
   "outputs": [],
   "source": [
    "spm = df[df.label == \"spam\"]\n",
    "hm = df[df.label == \"ham\"]"
   ]
  },
  {
   "cell_type": "code",
   "execution_count": 34,
   "metadata": {},
   "outputs": [
    {
     "data": {
      "image/png": "[encoded data removed]",
      "text/plain": [
       "<Figure size 1440x432 with 2 Axes>"
      ]
     },
     "metadata": {
      "needs_background": "light"
     },
     "output_type": "display_data"
    }
   ],
   "source": [
    "fig, axes = plt.subplots(1, 2, figsize=(20, 6))\n",
    "spm.server_mail.str.partition(\"@\")[2].value_counts()[:10][::-1].plot.barh(ax=axes[0], color=\"red\")\n",
    "hm.server_mail.str.partition(\"@\")[2].value_counts()[:10][::-1].plot.barh(ax=axes[1])\n",
    "axes[1].set_xlim([700, 0])\n",
    "axes[1].yaxis.set_ticks_position(\"right\")\n",
    "\n",
    "axes[0].set_title(\"SPAM\", size=20)\n",
    "axes[1].set_title(\"HAM\", size=20);"
   ]
  },
  {
   "cell_type": "markdown",
   "metadata": {},
   "source": [
    "This is easily interpretable that, **most of the mails which are SPAMS** come from `linux.ie` server mail domain. Then `hotmail.com` and `yahoo.com` are the most common.\n",
    "\n",
    "**While,** on the other side - in HAMS, `xemt.com`, `jmason.org` and `sourceforge.net` are the most common. This feature can be a nice decision maker for us to decide whether the mail is spam or ham."
   ]
  },
  {
   "cell_type": "markdown",
   "metadata": {},
   "source": [
    "**Indeed**, there are some overlaps like `sourceforge.net`, `linux.ie` etc which are available in both mails. But, still the overlaps are in small amount of domains. See the list below ↓"
   ]
  },
  {
   "cell_type": "code",
   "execution_count": 49,
   "metadata": {},
   "outputs": [
    {
     "data": {
      "text/plain": [
       "array(['lists.sourceforge.net', 'linux.ie', 'taint.org', 'crackmice.com',\n",
       "       'example.com', 'earthlink.net', 'hotmail.com', 'jmason.org'],\n",
       "      dtype=object)"
      ]
     },
     "execution_count": 49,
     "metadata": {},
     "output_type": "execute_result"
    }
   ],
   "source": [
    "hm.server_mail.str.partition(\"@\")[2].unique()[np.isin(hm.server_mail.str.partition(\"@\")[2].unique(), \n",
    "        spm.server_mail.str.partition(\"@\")[2].unique())]"
   ]
  },
  {
   "cell_type": "markdown",
   "metadata": {},
   "source": [
    "Just 8 out of many. So, we are gonna keep it as the feature."
   ]
  },
  {
   "cell_type": "markdown",
   "metadata": {},
   "source": [
    "###### "
   ]
  },
  {
   "cell_type": "markdown",
   "metadata": {},
   "source": [
    "#### **Q1.1** What about the \"from mail\" domains?"
   ]
  },
  {
   "cell_type": "code",
   "execution_count": 59,
   "metadata": {},
   "outputs": [
    {
     "data": {
      "image/png": "[encoded data removed]",
      "text/plain": [
       "<Figure size 1440x432 with 2 Axes>"
      ]
     },
     "metadata": {
      "needs_background": "light"
     },
     "output_type": "display_data"
    }
   ],
   "source": [
    "fig, axes = plt.subplots(1, 2, figsize=(20, 6))\n",
    "spm.from_mail.str.partition(\"@\")[2].value_counts()[:10][::-1].plot.barh(ax=axes[0], color=\"red\")\n",
    "hm.from_mail.str.partition(\"@\")[2].value_counts()[:10][::-1].plot.barh(ax=axes[1])\n",
    "axes[1].set_xlim([700, 0])\n",
    "axes[1].yaxis.set_ticks_position(\"right\")\n",
    "\n",
    "axes[0].set_title(\"SPAM\", size=20)\n",
    "axes[1].set_title(\"HAM\", size=20);"
   ]
  },
  {
   "cell_type": "markdown",
   "metadata": {},
   "source": [
    "Now, again we are looking at some nice feature which can contribute more to the message's being spam or ham. <br>\n",
    "—<br>\n",
    "Here, ***for SPAM*** the messages are mostly come from `hotmail.com` (remember the same hotmail was there in servermail domains) and then `yahoo.com` and `insiq.us` are 2nd and 3rd most common.\n",
    "\n",
    "On the ***HAM*** side, messages are mostly comming from `example.com`. Then there is `hotmail.com`, `slack.net` and the rest follow the similar count as `slack`. Here, hotmail is the overlap which might give use the ambiuity problem in deciding between the SPAM or HAM but still others are different in both types."
   ]
  },
  {
   "cell_type": "code",
   "execution_count": 62,
   "metadata": {},
   "outputs": [
    {
     "data": {
      "text/plain": [
       "array(['yahoo.co.uk', 'hotmail.com', 'linux.ie', 'earthlink.net',\n",
       "       'yahoo.com', 'wanadoo.fr', 'aol.com', 'mindspring.com',\n",
       "       'prodigy.net', 'dogma.slashnull.org', 'gmx.net', 'bigfoot.com'],\n",
       "      dtype=object)"
      ]
     },
     "execution_count": 62,
     "metadata": {},
     "output_type": "execute_result"
    }
   ],
   "source": [
    "hm.from_mail.str.partition(\"@\")[2].unique()[np.isin(hm.from_mail.str.partition(\"@\")[2].unique(), \n",
    "        spm.from_mail.str.partition(\"@\")[2].unique())]"
   ]
  },
  {
   "cell_type": "markdown",
   "metadata": {},
   "source": [
    "There are only 12 common domains which exist in both types."
   ]
  },
  {
   "cell_type": "markdown",
   "metadata": {},
   "source": [
    "###### "
   ]
  },
  {
   "cell_type": "markdown",
   "metadata": {},
   "source": [
    "#### **Q1.2** In how many cases (records) we have same domains for `server` and `from` mails?"
   ]
  },
  {
   "cell_type": "code",
   "execution_count": 71,
   "metadata": {},
   "outputs": [
    {
     "data": {
      "text/plain": [
       "label\n",
       "ham      6.703254\n",
       "spam    69.600000\n",
       "dtype: float64"
      ]
     },
     "execution_count": 71,
     "metadata": {},
     "output_type": "execute_result"
    }
   ],
   "source": [
    "df[df.server_mail == df.from_mail].groupby(\"label\").size() / df.groupby(\"label\").size() * 100"
   ]
  },
  {
   "cell_type": "markdown",
   "metadata": {},
   "source": [
    "Only `6.7 %` mails from all HAM mails are having the same mails. <br>\n",
    "**AND** <br>\n",
    "`69 %` mails from all SPAM mails are having the same mails.\n",
    "\n",
    "That means, same mails are common in SPAMs."
   ]
  },
  {
   "cell_type": "markdown",
   "metadata": {},
   "source": [
    "# "
   ]
  },
  {
   "cell_type": "markdown",
   "metadata": {},
   "source": [
    "### `Q2.` Which date / time are common for the SPAM mails?"
   ]
  },
  {
   "cell_type": "code",
   "execution_count": 160,
   "metadata": {},
   "outputs": [],
   "source": [
    "time = pd.concat([hm.datetime.dt.hour.value_counts(), spm.datetime.dt.hour.value_counts()], axis=1)\n",
    "time.columns = [\"ham\", \"spam\"]\n",
    "time = (time / time.sum(0))"
   ]
  },
  {
   "cell_type": "code",
   "execution_count": 162,
   "metadata": {},
   "outputs": [
    {
     "data": {
      "image/png": "[encoded data removed]",
      "text/plain": [
       "<Figure size 720x720 with 2 Axes>"
      ]
     },
     "metadata": {
      "needs_background": "light"
     },
     "output_type": "display_data"
    }
   ],
   "source": [
    "fig, axes = plt.subplots(1, 2, figsize=(10, 10))\n",
    "plt.subplots_adjust(wspace=0, hspace=None)\n",
    "axes[0].barh(time.index, time[\"ham\"], label=\"HAM\")\n",
    "axes[0].invert_xaxis()\n",
    "axes[0].set_xticks([])\n",
    "axes[0].set_yticks(range(0, 26, 2))\n",
    "axes[0].spines[\"right\"].set_visible(False)\n",
    "\n",
    "axes[1].barh(time.index, time[\"spam\"], color=\"red\", label=\"SPAM\")\n",
    "axes[1].set_yticks([])\n",
    "axes[1].set_xticks([])\n",
    "axes[1].spines[\"left\"].set_visible(False)\n",
    "\n",
    "handles_0, labels_0 = axes[0].get_legend_handles_labels()\n",
    "handles_1, labels_1 = axes[1].get_legend_handles_labels()\n",
    "\n",
    "handels = handles_0 + handles_1\n",
    "labels = labels_0 + labels_1\n",
    "fig.legend(handels, labels, loc=(0.83, 0.85));"
   ]
  },
  {
   "cell_type": "markdown",
   "metadata": {},
   "source": [
    "**Here**, it the mail sending hour doesn't follow some kind of trend... most of the time, we can see that both mails are being sent in the same time span of the day. \n",
    "\n",
    "But, for SPAMs, **15** hour at noon is more common and at the same time **HAMs** are send in the low amount. And at **10** in the morning, HAMs are sent the most than the SPAMs."
   ]
  },
  {
   "cell_type": "markdown",
   "metadata": {},
   "source": [
    "— ***NOTE***: The vizual is normalized so that we can compare both type of mails. Otherwise the imbalanced frequency would have resulted in some misleading conclusions."
   ]
  },
  {
   "cell_type": "markdown",
   "metadata": {},
   "source": [
    "# "
   ]
  },
  {
   "cell_type": "markdown",
   "metadata": {},
   "source": [
    "### `Q3.` What is the common length of subject for both types of mails?"
   ]
  },
  {
   "cell_type": "code",
   "execution_count": 182,
   "metadata": {},
   "outputs": [],
   "source": [
    "subject_len = pd.concat([df.label, df.subject.str.len()], axis=1)"
   ]
  },
  {
   "cell_type": "code",
   "execution_count": 213,
   "metadata": {},
   "outputs": [
    {
     "data": {
      "image/png": "[encoded data removed]",
      "text/plain": [
       "<Figure size 576x504 with 1 Axes>"
      ]
     },
     "metadata": {
      "needs_background": "light"
     },
     "output_type": "display_data"
    }
   ],
   "source": [
    "plt.figure(figsize=(8, 7))\n",
    "sns.boxplot(x=\"label\", y=\"subject\", data=subject_len, palette=[\"#3274a1\", \"red\"])\n",
    "plt.ylabel(\"\"); plt.xlabel(\"\")\n",
    "plt.title(\"The Subject Length Comparision\", size=15, pad=15)\n",
    "plt.yticks(range(0, 110, 5));"
   ]
  },
  {
   "cell_type": "markdown",
   "metadata": {},
   "source": [
    "**Here**, it seems to be simple that, spam messages' subject length is slightly more than the HAMs'. And they tend to be more than that becasue teh outliers too have larger value.\n",
    "\n",
    "When the HAMs are tend to have lower length in their subjects. And there are just a few outliers which are not too extreme."
   ]
  },
  {
   "cell_type": "markdown",
   "metadata": {},
   "source": [
    "###### "
   ]
  },
  {
   "cell_type": "markdown",
   "metadata": {},
   "source": [
    "### `Q4.` What is the length distribution for both types of mails?"
   ]
  },
  {
   "cell_type": "code",
   "execution_count": 214,
   "metadata": {},
   "outputs": [],
   "source": [
    "message_len = pd.concat([df.label, df.message.str.len()], axis=1)"
   ]
  },
  {
   "cell_type": "code",
   "execution_count": 235,
   "metadata": {},
   "outputs": [
    {
     "data": {
      "image/png": "[encoded data removed]",
      "text/plain": [
       "<Figure size 576x504 with 1 Axes>"
      ]
     },
     "metadata": {
      "needs_background": "light"
     },
     "output_type": "display_data"
    }
   ],
   "source": [
    "plt.figure(figsize=(8, 7))\n",
    "sns.boxplot(x=\"label\", y=\"message\", data=message_len, palette=[\"#3274a1\", \"red\"])\n",
    "plt.ylabel(\"\"); plt.xlabel(\"\")\n",
    "plt.title(\"The Message Length Comparision\", size=15, pad=15)\n",
    "plt.ylim([-100, 7000]);"
   ]
  },
  {
   "cell_type": "markdown",
   "metadata": {},
   "source": [
    "Here, the message length is soo much squewed. And there is not any concrete insight that can say a message which is usually large is this... you know. Here we can see a lot of outliers."
   ]
  },
  {
   "cell_type": "markdown",
   "metadata": {},
   "source": [
    "So, I think I should avoid taking the \"length\" as the feature to decide the message's mode."
   ]
  },
  {
   "cell_type": "markdown",
   "metadata": {},
   "source": [
    "# "
   ]
  },
  {
   "cell_type": "markdown",
   "metadata": {},
   "source": [
    "### `Q5.` What topics are usually discussed in each type of messages?\n"
   ]
  },
  {
   "cell_type": "markdown",
   "metadata": {},
   "source": [
    "Now, for this to be done our normal word extraction technique will not help. We need to use something better. Here, I could use some pretrained tools from Google, Amazon etc. to get the theme of the message. (Remember: Here our aim is to get the *theme*, not the *tone* of the message)\n",
    "\n",
    "So, after too much searching I found [this method](https://towardsdatascience.com/keyword-extraction-with-bert-724efca412ea) to be a nice fit. The following code replicates just that. "
   ]
  },
  {
   "cell_type": "markdown",
   "metadata": {},
   "source": [
    "###### "
   ]
  },
  {
   "cell_type": "code",
   "execution_count": 4,
   "metadata": {},
   "outputs": [],
   "source": [
    "from sklearn.feature_extraction.text import CountVectorizer\n",
    "from sentence_transformers import SentenceTransformer\n",
    "from sklearn.metrics.pairwise import cosine_similarity\n",
    "\n",
    "n_gram_range = (1, 1)\n",
    "stop_words = \"english\"\n",
    "model = SentenceTransformer('distilbert-base-nli-mean-tokens')"
   ]
  },
  {
   "cell_type": "code",
   "execution_count": 21,
   "metadata": {},
   "outputs": [],
   "source": [
    "th = 1\n",
    "def get_keyword(msg):\n",
    "    global th\n",
    "    if th % 10 == 0:\n",
    "        print(th)\n",
    "    th += 1\n",
    "    \n",
    "    try:\n",
    "        count = CountVectorizer(ngram_range=n_gram_range, stop_words=stop_words).fit([msg])\n",
    "        candidates = count.get_feature_names()\n",
    "\n",
    "        doc_embedding = model.encode([msg])\n",
    "        candidate_embeddings = model.encode(candidates)\n",
    "\n",
    "        top_n = 5\n",
    "        distances = cosine_similarity(doc_embedding, candidate_embeddings)\n",
    "        keywords = [candidates[index] for index in distances.argsort()[0][-top_n:]]\n",
    "        return keywords[0]\n",
    "    \n",
    "    except:\n",
    "        return \"NaN\""
   ]
  },
  {
   "cell_type": "code",
   "execution_count": null,
   "metadata": {},
   "outputs": [],
   "source": [
    "keywords = df.message.apply(get_keyword)"
   ]
  },
  {
   "cell_type": "code",
   "execution_count": 25,
   "metadata": {},
   "outputs": [],
   "source": [
    "df[\"topic\"] = keywords"
   ]
  },
  {
   "cell_type": "markdown",
   "metadata": {},
   "source": [
    "Now, frankly the result is not awsome. But if it were we would have done some vizual like this ↓"
   ]
  },
  {
   "cell_type": "code",
   "execution_count": 80,
   "metadata": {},
   "outputs": [
    {
     "data": {
      "image/png": "[encoded data removed]",
      "text/plain": [
       "<Figure size 720x1080 with 2 Axes>"
      ]
     },
     "metadata": {},
     "output_type": "display_data"
    }
   ],
   "source": [
    "topics = df[df.label == \"spam\"].topic.value_counts()[:7].index\n",
    "values = df[df.label == \"spam\"].topic.value_counts()[:7].values.tolist()\n",
    "N = len(values)\n",
    "values += values[:1]\n",
    "angles = [n / float(N) * 2 * np.pi for n in range(N)]\n",
    "angles += angles[:1]\n",
    "\n",
    "# Initialise the spider plot\n",
    "fig = plt.figure(facecolor=\"white\", figsize=(10, 15))\n",
    "ax = plt.subplot(121, polar=True)\n",
    "\n",
    "# Draw one axe per variable + add labels\n",
    "plt.xticks(angles[:-1], topics, color='grey', size=12)\n",
    "plt.tick_params(axis='x', pad=20)\n",
    "\n",
    "# Draw ylabels\n",
    "ax.set_rlabel_position(0)\n",
    "plt.yticks(color=\"grey\", size=10)\n",
    "plt.ylim(0,15)\n",
    "\n",
    "# Plot data\n",
    "ax.plot(angles, values, linewidth=1, linestyle='solid', color=\"r\")\n",
    "\n",
    "# Fill area\n",
    "ax.fill(angles, values, 'r', alpha=0.1)\n",
    "ax.set_title(\"SPAM\", pad=10)\n",
    "\n",
    "\n",
    "\n",
    "topics = df[df.label == \"ham\"].topic.value_counts()[:6].index\n",
    "values = df[df.label == \"ham\"].topic.value_counts()[:6].values.tolist()\n",
    "N = len(values)\n",
    "values += values[:1]\n",
    "angles = [n / float(N) * 2 * np.pi for n in range(N)]\n",
    "angles += angles[:1]\n",
    "\n",
    "ax = plt.subplot(122, polar=True)\n",
    "\n",
    "# Draw one axe per variable + add labels\n",
    "plt.xticks(angles[:-1], topics, color='grey', size=12)\n",
    "plt.tick_params(axis='x', pad=20)\n",
    "\n",
    "# Draw ylabels\n",
    "ax.set_rlabel_position(0)\n",
    "plt.yticks(color=\"grey\", size=10)\n",
    "plt.ylim(0, 100)\n",
    "\n",
    "# Plot data\n",
    "ax.plot(angles, values, linewidth=1, linestyle='solid')\n",
    "\n",
    "# Fill area\n",
    "ax.fill(angles, values, 'b', alpha=0.1)\n",
    "ax.set_title(\"HAM\", pad=20)\n",
    "\n",
    "\n",
    "plt.subplots_adjust(wspace=1)"
   ]
  },
  {
   "cell_type": "markdown",
   "metadata": {},
   "source": [
    "Cool! Here, we can easily see how the spam messages are talking about some topic and how the hams. "
   ]
  },
  {
   "cell_type": "markdown",
   "metadata": {},
   "source": [
    "###### "
   ]
  },
  {
   "cell_type": "markdown",
   "metadata": {},
   "source": [
    "### `Q6.` Most frequent words in Spam\n"
   ]
  },
  {
   "cell_type": "markdown",
   "metadata": {},
   "source": [
    "Now, here - we are directly trying to work on the messages. So we need to remove the *stopwords*, *punctuation* and also have to do *stemming*."
   ]
  },
  {
   "cell_type": "markdown",
   "metadata": {},
   "source": [
    "###### "
   ]
  },
  {
   "cell_type": "markdown",
   "metadata": {},
   "source": [
    "`SPAM`"
   ]
  },
  {
   "cell_type": "code",
   "execution_count": 54,
   "metadata": {},
   "outputs": [],
   "source": [
    "# First looking at the messages WITHOUT any filteration.\n",
    "all_messages = \" \".join(spm.message).lower()"
   ]
  },
  {
   "cell_type": "code",
   "execution_count": 55,
   "metadata": {},
   "outputs": [
    {
     "data": {
      "text/plain": [
       "1897716"
      ]
     },
     "execution_count": 55,
     "metadata": {},
     "output_type": "execute_result"
    }
   ],
   "source": [
    "len(all_messages)"
   ]
  },
  {
   "cell_type": "code",
   "execution_count": 51,
   "metadata": {},
   "outputs": [],
   "source": [
    "vocab = list(set(all_messages.lower().split()))"
   ]
  },
  {
   "cell_type": "code",
   "execution_count": 52,
   "metadata": {},
   "outputs": [
    {
     "data": {
      "text/plain": [
       "29012"
      ]
     },
     "execution_count": 52,
     "metadata": {},
     "output_type": "execute_result"
    }
   ],
   "source": [
    "len(vocab)"
   ]
  },
  {
   "cell_type": "markdown",
   "metadata": {},
   "source": [
    "We have 29K unique words. (Of course they are not *words* as we call it. They are different. But for now let's say we have 29K unique words)"
   ]
  },
  {
   "cell_type": "code",
   "execution_count": 57,
   "metadata": {},
   "outputs": [],
   "source": [
    "words = all_messages.split()"
   ]
  },
  {
   "cell_type": "code",
   "execution_count": 59,
   "metadata": {},
   "outputs": [
    {
     "data": {
      "text/plain": [
       "the     5804\n",
       "to      4936\n",
       "and     3684\n",
       "of      3597\n",
       "you     3039\n",
       "a       2371\n",
       "in      2083\n",
       "for     2054\n",
       "your    1889\n",
       "this    1861\n",
       "is      1629\n",
       "i       1162\n",
       "that    1104\n",
       "=20     1033\n",
       "with     998\n",
       "or       981\n",
       "on       938\n",
       "are      935\n",
       "be       904\n",
       "not      839\n",
       "dtype: int64"
      ]
     },
     "execution_count": 59,
     "metadata": {},
     "output_type": "execute_result"
    }
   ],
   "source": [
    "pd.value_counts(words)[:20]"
   ]
  },
  {
   "cell_type": "markdown",
   "metadata": {},
   "source": [
    "We must have to remove the punctuation and the stop words. <br>\n",
    "But, before that let's see for HAMS."
   ]
  },
  {
   "cell_type": "markdown",
   "metadata": {},
   "source": [
    "`HAMS`"
   ]
  },
  {
   "cell_type": "code",
   "execution_count": 60,
   "metadata": {},
   "outputs": [],
   "source": [
    "# First looking at the messages WITHOUT any filteration.\n",
    "all_messages = \" \".join(hm.message)"
   ]
  },
  {
   "cell_type": "code",
   "execution_count": 61,
   "metadata": {},
   "outputs": [
    {
     "data": {
      "text/plain": [
       "3554307"
      ]
     },
     "execution_count": 61,
     "metadata": {},
     "output_type": "execute_result"
    }
   ],
   "source": [
    "len(all_messages)"
   ]
  },
  {
   "cell_type": "code",
   "execution_count": 62,
   "metadata": {},
   "outputs": [],
   "source": [
    "vocab = list(set(all_messages.lower().split()))"
   ]
  },
  {
   "cell_type": "code",
   "execution_count": 63,
   "metadata": {},
   "outputs": [
    {
     "data": {
      "text/plain": [
       "55183"
      ]
     },
     "execution_count": 63,
     "metadata": {},
     "output_type": "execute_result"
    }
   ],
   "source": [
    "len(vocab)"
   ]
  },
  {
   "cell_type": "markdown",
   "metadata": {},
   "source": [
    "More than SPAMS huh?"
   ]
  },
  {
   "cell_type": "code",
   "execution_count": 64,
   "metadata": {},
   "outputs": [],
   "source": [
    "words = all_messages.split()"
   ]
  },
  {
   "cell_type": "code",
   "execution_count": 67,
   "metadata": {},
   "outputs": [
    {
     "data": {
      "text/plain": [
       "the     20884\n",
       ">       19202\n",
       "to      13053\n",
       "of      10637\n",
       "and     10359\n",
       "a       10072\n",
       "in       6630\n",
       "is       6234\n",
       "that     5519\n",
       "I        5401\n",
       "for      4560\n",
       "it       3739\n",
       "on       3315\n",
       "with     3005\n",
       "be       2788\n",
       "you      2654\n",
       "have     2631\n",
       "are      2436\n",
       "this     2372\n",
       "as       2319\n",
       "from     2153\n",
       "The      2139\n",
       "not      2124\n",
       "at       2020\n",
       "was      1954\n",
       "or       1908\n",
       "but      1830\n",
       "an       1708\n",
       "by       1627\n",
       "--       1569\n",
       "dtype: int64"
      ]
     },
     "execution_count": 67,
     "metadata": {},
     "output_type": "execute_result"
    }
   ],
   "source": [
    "pd.value_counts(words)[:30]"
   ]
  },
  {
   "cell_type": "markdown",
   "metadata": {},
   "source": [
    "We **have to** do some preprocessing first!"
   ]
  },
  {
   "cell_type": "markdown",
   "metadata": {},
   "source": [
    "## "
   ]
  },
  {
   "cell_type": "markdown",
   "metadata": {},
   "source": [
    "**Preprocessing - Stopwords, Punctuation removal and Stamming, Lemmitization**"
   ]
  },
  {
   "cell_type": "code",
   "execution_count": 6,
   "metadata": {},
   "outputs": [],
   "source": [
    "from nltk.stem import WordNetLemmatizer\n",
    "from nltk.corpus import stopwords\n",
    "import string"
   ]
  },
  {
   "cell_type": "code",
   "execution_count": 7,
   "metadata": {
    "collapsed": true,
    "jupyter": {
     "outputs_hidden": true
    }
   },
   "outputs": [
    {
     "name": "stderr",
     "output_type": "stream",
     "text": [
      "[nltk_data] Downloading package wordnet to\n",
      "[nltk_data]     C:\\Users\\GIGABYTE\\AppData\\Roaming\\nltk_data...\n",
      "[nltk_data]   Package wordnet is already up-to-date!\n"
     ]
    },
    {
     "data": {
      "text/plain": [
       "True"
      ]
     },
     "execution_count": 7,
     "metadata": {},
     "output_type": "execute_result"
    }
   ],
   "source": [
    "# DON't RUN THIS\n",
    "import nltk\n",
    "nltk.download(\"wordnet\")\n",
    "# DON't RUN THIS"
   ]
  },
  {
   "cell_type": "code",
   "execution_count": 8,
   "metadata": {},
   "outputs": [],
   "source": [
    "stopwords = stopwords.words(\"english\")\n",
    "puncs = string.punctuation\n",
    "lemma = WordNetLemmatizer()"
   ]
  },
  {
   "cell_type": "code",
   "execution_count": 46,
   "metadata": {},
   "outputs": [
    {
     "data": {
      "text/plain": [
       "['Fly',\n",
       " 'Flew',\n",
       " 'Flown',\n",
       " 'Flied',\n",
       " 'done',\n",
       " 'did',\n",
       " 'am',\n",
       " 'worked',\n",
       " 'trying',\n",
       " 'Aayush']"
      ]
     },
     "execution_count": 46,
     "metadata": {},
     "output_type": "execute_result"
    }
   ],
   "source": [
    "[lemma.lemmatize(word, pos=\"n\") for word in [\"Fly\", \"Flew\", \"Flown\", \"Flied\", \"done\", \"did\", \"am\", \"worked\", \"trying\", \"Aayush\"]]"
   ]
  },
  {
   "cell_type": "code",
   "execution_count": 5,
   "metadata": {},
   "outputs": [],
   "source": [
    "import re"
   ]
  },
  {
   "cell_type": "code",
   "execution_count": 10,
   "metadata": {},
   "outputs": [],
   "source": [
    "# These are...\n",
    "idx = [9, 10, 11, 12, 22, 27, 41, 145, 147 ,149 , 151, 153, 155, 157, 159, 162, 164, 166, 168, 170, 172, 174, 176, 178]"
   ]
  },
  {
   "cell_type": "code",
   "execution_count": 11,
   "metadata": {},
   "outputs": [],
   "source": [
    "tobeadded = re.sub(\"'\", \"\", \" \".join(np.array(stopwords)[idx])).split()\n",
    "tobeadded = tobeadded + [\"u\", \"r\", \"dont\"]\n",
    "stopwords = stopwords + tobeadded"
   ]
  },
  {
   "cell_type": "code",
   "execution_count": 12,
   "metadata": {},
   "outputs": [],
   "source": [
    "replacer = re.compile(r'[!\"#$%&\\'()*+,-./:;<=>?@\\[\\\\\\]^_`\\{|\\}~\"]')\n",
    "lemma = WordNetLemmatizer()\n",
    "\n",
    "def remove_unrelated(msg):\n",
    "    # Make it low\n",
    "    msg = msg.lower()\n",
    "    \n",
    "    # Removing puncs\n",
    "    msg = replacer.sub(\"\", msg)\n",
    "    \n",
    "    # Removing stops\n",
    "    msg = [word for word in msg.split() if word not in stopwords]\n",
    "    \n",
    "    # Lemmitizing\n",
    "    msg = [lemma.lemmatize(word, pos=\"v\") for word in msg]\n",
    "    \n",
    "    # Joining\n",
    "    msg = \" \".join(msg)\n",
    "    return msg"
   ]
  },
  {
   "cell_type": "code",
   "execution_count": 13,
   "metadata": {},
   "outputs": [],
   "source": [
    "processed = df.message.apply(remove_unrelated)\n",
    "df.message = processed"
   ]
  },
  {
   "cell_type": "code",
   "execution_count": 14,
   "metadata": {},
   "outputs": [],
   "source": [
    "spm = df[df.label == \"spam\"]\n",
    "hm = df[df.label == \"ham\"]"
   ]
  },
  {
   "cell_type": "code",
   "execution_count": 15,
   "metadata": {},
   "outputs": [],
   "source": [
    "all_messages = \" \".join(spm.message)\n",
    "words = all_messages.split()\n",
    "spm_words = pd.value_counts(words)"
   ]
  },
  {
   "cell_type": "code",
   "execution_count": 16,
   "metadata": {},
   "outputs": [],
   "source": [
    "all_messages = \" \".join(hm.message)\n",
    "words = all_messages.split()\n",
    "hm_words = pd.value_counts(words)"
   ]
  },
  {
   "cell_type": "code",
   "execution_count": 17,
   "metadata": {},
   "outputs": [],
   "source": [
    "hm_words = hm_words[~hm_words.index.isin([\"2002\", \"date\", \"1\", \"2\"])]"
   ]
  },
  {
   "cell_type": "markdown",
   "metadata": {},
   "source": [
    "## "
   ]
  },
  {
   "cell_type": "code",
   "execution_count": 18,
   "metadata": {},
   "outputs": [],
   "source": [
    "import squarify"
   ]
  },
  {
   "cell_type": "code",
   "execution_count": 19,
   "metadata": {},
   "outputs": [],
   "source": [
    "from matplotlib import cm\n",
    "color = cm.seismic_r(np.linspace(.35, .6, 100))"
   ]
  },
  {
   "cell_type": "code",
   "execution_count": 230,
   "metadata": {},
   "outputs": [
    {
     "data": {
      "image/png": "[encoded data removed]",
      "text/plain": [
       "<Figure size 1440x720 with 1 Axes>"
      ]
     },
     "metadata": {
      "needs_background": "light"
     },
     "output_type": "display_data"
    }
   ],
   "source": [
    "plt.figure(figsize=(20, 10))\n",
    "sizes=hm_words.values[:100]\n",
    "label=hm_words.index[:100]\n",
    "squarify.plot(sizes=sizes, label=label, alpha=1, color=color, text_kwargs={\"size\":12})\n",
    "plt.axis(\"off\")\n",
    "plt.title(\"HAM Messages 100 Most Used Words\", pad=20, size=20)\n",
    "plt.show()"
   ]
  },
  {
   "cell_type": "code",
   "execution_count": 231,
   "metadata": {},
   "outputs": [
    {
     "data": {
      "image/png": "[encoded data removed]",
      "text/plain": [
       "<Figure size 1440x720 with 1 Axes>"
      ]
     },
     "metadata": {
      "needs_background": "light"
     },
     "output_type": "display_data"
    }
   ],
   "source": [
    "plt.figure(figsize=(20, 10))\n",
    "sizes=spm_words.values[:100]\n",
    "label=spm_words.index[:100]\n",
    "squarify.plot(sizes=sizes, label=label, alpha=1, color=color, text_kwargs={\"size\":12})\n",
    "plt.axis(\"off\")\n",
    "plt.title(\"SPAM Messages 100 Most Used Words\", pad=20, size=20)\n",
    "plt.show()"
   ]
  },
  {
   "cell_type": "markdown",
   "metadata": {},
   "source": [
    "Look at the difference, the small squares (bluish) are those which are not repeated that much, but those in big squares (redish) are those which get used most frequently.\n",
    "\n",
    "- We can see some good difference between both types of mails.  \n",
    "- One **mail** word is occuring in both types of messages and is for notable amount of time\n",
    "- We can also see **send**, **receice**, **free** keywords in the spam messages which well, make them spams\n",
    "- In hams, **list**, **say**, **get** are the other most used word which kind of we use in our daily life"
   ]
  },
  {
   "cell_type": "markdown",
   "metadata": {},
   "source": [
    "# "
   ]
  },
  {
   "cell_type": "markdown",
   "metadata": {},
   "source": [
    "### `Q7.` If the message length is # then the topic is usually ___ (overall)\n"
   ]
  },
  {
   "cell_type": "code",
   "execution_count": 2,
   "metadata": {},
   "outputs": [],
   "source": [
    "df = pd.read_csv(\"./cleaned_regexed_topicwise.csv\", parse_dates=[\"datetime\"])"
   ]
  },
  {
   "cell_type": "code",
   "execution_count": 3,
   "metadata": {},
   "outputs": [],
   "source": [
    "spm = df[df.label == \"spam\"]\n",
    "hm = df[df.label == \"ham\"]"
   ]
  },
  {
   "cell_type": "markdown",
   "metadata": {},
   "source": [
    "`SPAM`"
   ]
  },
  {
   "cell_type": "code",
   "execution_count": 24,
   "metadata": {},
   "outputs": [],
   "source": [
    "spm_length = spm.message.apply(lambda x: len(x.split()) if isinstance(x, str) else 0)"
   ]
  },
  {
   "cell_type": "code",
   "execution_count": 49,
   "metadata": {
    "collapsed": true,
    "jupyter": {
     "outputs_hidden": true
    }
   },
   "outputs": [
    {
     "name": "stderr",
     "output_type": "stream",
     "text": [
      "<ipython-input-49-64307765a4fd>:1: SettingWithCopyWarning: \n",
      "A value is trying to be set on a copy of a slice from a DataFrame.\n",
      "Try using .loc[row_indexer,col_indexer] = value instead\n",
      "\n",
      "See the caveats in the documentation: https://pandas.pydata.org/pandas-docs/stable/user_guide/indexing.html#returning-a-view-versus-a-copy\n",
      "  spm[\"class\"] = pd.cut(spm_length, bins=30, precision=0)\n"
     ]
    }
   ],
   "source": [
    "spm[\"class\"] = pd.cut(spm_length, bins=30, precision=0)"
   ]
  },
  {
   "cell_type": "code",
   "execution_count": 50,
   "metadata": {},
   "outputs": [
    {
     "data": {
      "text/plain": [
       "class                                                                                        \n",
       "(-7.0, 217.0]     email                                                                          12\n",
       "                  100                                                                             9\n",
       "(217.0, 434.0]    httpwwwinsuranceiqcomoptout                                                     6\n",
       "                  investors                                                                       5\n",
       "(434.0, 651.0]    stjepanovica                                                                    2\n",
       "                  indiaeconomics                                                                  1\n",
       "(651.0, 869.0]    mastercard                                                                      2\n",
       "                  2pa0z29hg9ietzu6ccgpcuzzaaral33jcqzkbzmxkntftinmzs6zl641vittalpn6cwvg5fy        1\n",
       "(869.0, 1086.0]   millionaire                                                                     3\n",
       "                  7dbvryn1fq5add2zyb7te1snegbwxcry82plj8vgrpt34dd4flvty0ag0ta42vvexp              1\n",
       "(1086.0, 1303.0]  fortune2                                                                        2\n",
       "(1303.0, 1520.0]  httpwwwcoachinvestcomstartupstartup08html                                       2\n",
       "                  fortune                                                                         2\n",
       "(1520.0, 1737.0]  profit                                                                          3\n",
       "                  canada                                                                          1\n",
       "(1737.0, 1954.0]  vpzwuimoll45zj9g12otvsklyxispsrdpz2pblbl4p6pvnbrqbyyhgeokq0tkk9294yzwpxt09d     1\n",
       "(2171.0, 2388.0]  herbal                                                                          1\n",
       "(2388.0, 2606.0]  1cbytp7hg7z3izhb6n0ordvdcydidtt8nq2nfr9fusjg2dp6xt2nk3b6md9iazozlbetsgru        1\n",
       "(3040.0, 3257.0]  bafkabcall4boactaf0ahaaaap8yzzpm2yzmqaazgaamzmzmtmzzmzmmzmzzmzmwazzmaz          1\n",
       "(6297.0, 6514.0]  hawaiians                                                                       1\n",
       "Name: topic, dtype: int64"
      ]
     },
     "execution_count": 50,
     "metadata": {},
     "output_type": "execute_result"
    }
   ],
   "source": [
    "spm.groupby(\"class\")[\"topic\"].apply(lambda topics: topics.value_counts()[:2])"
   ]
  },
  {
   "cell_type": "code",
   "execution_count": null,
   "metadata": {},
   "outputs": [],
   "source": [
    "###### "
   ]
  },
  {
   "cell_type": "markdown",
   "metadata": {},
   "source": [
    "`HAM`"
   ]
  },
  {
   "cell_type": "code",
   "execution_count": 35,
   "metadata": {},
   "outputs": [],
   "source": [
    "hm_length = hm.message.apply(lambda x: len(x.split()) if isinstance(x, str) else 0)"
   ]
  },
  {
   "cell_type": "code",
   "execution_count": 45,
   "metadata": {
    "collapsed": true,
    "jupyter": {
     "outputs_hidden": true
    }
   },
   "outputs": [
    {
     "name": "stderr",
     "output_type": "stream",
     "text": [
      "<ipython-input-45-cea29c362388>:1: SettingWithCopyWarning: \n",
      "A value is trying to be set on a copy of a slice from a DataFrame.\n",
      "Try using .loc[row_indexer,col_indexer] = value instead\n",
      "\n",
      "See the caveats in the documentation: https://pandas.pydata.org/pandas-docs/stable/user_guide/indexing.html#returning-a-view-versus-a-copy\n",
      "  hm[\"class\"] = pd.cut(hm_length, bins=50, precision=0)\n"
     ]
    }
   ],
   "source": [
    "hm[\"class\"] = pd.cut(hm_length, bins=50, precision=0)"
   ]
  },
  {
   "cell_type": "code",
   "execution_count": 46,
   "metadata": {},
   "outputs": [
    {
     "data": {
      "text/plain": [
       "class                                                                            \n",
       "(-7.0, 152.0]     url                                                                74\n",
       "                  email                                                              40\n",
       "(152.0, 303.0]    spam                                                                7\n",
       "                  httpthinkgeekcomsf                                                  6\n",
       "(303.0, 454.0]    yeasterday                                                          2\n",
       "                  ceaseanddesist                                                      2\n",
       "(454.0, 605.0]    cybercrime                                                          2\n",
       "                  jakobsi4mailinformatikrwthaachende                                  1\n",
       "(605.0, 756.0]    sister                                                              2\n",
       "                  online                                                              2\n",
       "(756.0, 907.0]    housekeeper                                                         2\n",
       "                  iqaawubpy511cpxh8jf3ohaeqlasgcfzhsqmsvuy6gqj5wgl52dwzkpihmanrur     1\n",
       "(907.0, 1057.0]   listmasterlinuxie                                                   1\n",
       "                  mime                                                                1\n",
       "(1057.0, 1208.0]  nasas                                                               1\n",
       "                  democratic                                                          1\n",
       "(1208.0, 1359.0]  thugs                                                               1\n",
       "                  princeton                                                           1\n",
       "(1510.0, 1661.0]  httpxentcommailmanlistinfofork                                      1\n",
       "(1661.0, 1812.0]  httponlinewsjcomarticle0sb103393990134622839300html                 1\n",
       "(1812.0, 1963.0]  laserfocused                                                        2\n",
       "                  smartobject                                                         2\n",
       "(2868.0, 3019.0]  conservatives                                                       1\n",
       "(3019.0, 3170.0]  evil                                                                1\n",
       "                  democratgazette                                                     1\n",
       "(3925.0, 4076.0]  murder                                                              1\n",
       "(7396.0, 7547.0]  iraqs                                                               1\n",
       "                  biotechnology                                                       1\n",
       "Name: topic, dtype: int64"
      ]
     },
     "execution_count": 46,
     "metadata": {},
     "output_type": "execute_result"
    }
   ],
   "source": [
    "hm.groupby(\"class\")[\"topic\"].apply(lambda topics: topics.value_counts()[:2])"
   ]
  },
  {
   "cell_type": "markdown",
   "metadata": {},
   "source": [
    "Here, we can see the topics which appear much often when there are that many words in the message. Since, our dataset is't much large and there aren't enough messages to extract the data the above findings won't give much insights.\n"
   ]
  },
  {
   "cell_type": "markdown",
   "metadata": {},
   "source": [
    "# "
   ]
  },
  {
   "cell_type": "markdown",
   "metadata": {},
   "source": [
    "### `Q8.` How many nouns are used in each type of messages?\n"
   ]
  },
  {
   "cell_type": "code",
   "execution_count": 51,
   "metadata": {},
   "outputs": [],
   "source": [
    "import nltk"
   ]
  },
  {
   "cell_type": "code",
   "execution_count": 57,
   "metadata": {
    "collapsed": true,
    "jupyter": {
     "outputs_hidden": true
    }
   },
   "outputs": [
    {
     "name": "stderr",
     "output_type": "stream",
     "text": [
      "[nltk_data] Downloading package punkt to\n",
      "[nltk_data]     C:\\Users\\DELL\\AppData\\Roaming\\nltk_data...\n",
      "[nltk_data]   Package punkt is already up-to-date!\n",
      "[nltk_data] Downloading package averaged_perceptron_tagger to\n",
      "[nltk_data]     C:\\Users\\DELL\\AppData\\Roaming\\nltk_data...\n",
      "[nltk_data]   Unzipping taggers\\averaged_perceptron_tagger.zip.\n"
     ]
    },
    {
     "data": {
      "text/plain": [
       "True"
      ]
     },
     "execution_count": 57,
     "metadata": {},
     "output_type": "execute_result"
    }
   ],
   "source": [
    "# DON'T RUN THIS\n",
    "nltk.download('punkt')\n",
    "nltk.download('averaged_perceptron_tagger')\n",
    "# DON'T RUN THIS"
   ]
  },
  {
   "cell_type": "code",
   "execution_count": 71,
   "metadata": {},
   "outputs": [],
   "source": [
    "from collections import Counter"
   ]
  },
  {
   "cell_type": "code",
   "execution_count": 83,
   "metadata": {},
   "outputs": [],
   "source": [
    "def count_nouns(msg):\n",
    "    try:\n",
    "        tokens = nltk.word_tokenize(msg)\n",
    "        text = nltk.Text(tokens)\n",
    "        tags = nltk.pos_tag(msg)\n",
    "        return Counter(tag for word, tag in tags).get(\"NN\", 0)\n",
    "    except:\n",
    "        return 0"
   ]
  },
  {
   "cell_type": "code",
   "execution_count": null,
   "metadata": {},
   "outputs": [],
   "source": [
    "n_nouns = df.message.apply(count_nouns)"
   ]
  },
  {
   "cell_type": "code",
   "execution_count": 85,
   "metadata": {},
   "outputs": [],
   "source": [
    "df[\"n_nouns\"] = n_nouns"
   ]
  },
  {
   "cell_type": "code",
   "execution_count": 86,
   "metadata": {},
   "outputs": [],
   "source": [
    "df.to_csv(\"BEST.csv\", index=False)"
   ]
  },
  {
   "cell_type": "code",
   "execution_count": 103,
   "metadata": {},
   "outputs": [
    {
     "data": {
      "image/png": "[encoded data removed]",
      "text/plain": [
       "<Figure size 720x504 with 1 Axes>"
      ]
     },
     "metadata": {
      "needs_background": "light"
     },
     "output_type": "display_data"
    }
   ],
   "source": [
    "plt.figure(figsize=(10, 7))\n",
    "sns.boxplot(x=\"label\", y=\"n_nouns\", data=df, palette=[\"#3274a1\", \"red\"])\n",
    "plt.ylim([-10, 2000]);"
   ]
  },
  {
   "cell_type": "markdown",
   "metadata": {},
   "source": [
    "We are having tooo much outliers here, but relatively our spam messages are tend to include more nouns in the messages than the hams. "
   ]
  },
  {
   "cell_type": "markdown",
   "metadata": {},
   "source": [
    "# "
   ]
  },
  {
   "cell_type": "markdown",
   "metadata": {},
   "source": [
    "# That's it!\n",
    "I know this project might deserve more than this, but hey I am eager to know how our model performs. So, in the next book we will implement the ML part.\n",
    "\n",
    "See you there, <br>\n",
    "Aayush ∞ Shah"
   ]
  }
 ],
 "metadata": {
  "kernelspec": {
   "display_name": "Python 3",
   "language": "python",
   "name": "python3"
  },
  "language_info": {
   "codemirror_mode": {
    "name": "ipython",
    "version": 3
   },
   "file_extension": ".py",
   "mimetype": "text/x-python",
   "name": "python",
   "nbconvert_exporter": "python",
   "pygments_lexer": "ipython3",
   "version": "3.8.5"
  }
 },
 "nbformat": 4,
 "nbformat_minor": 4
}
